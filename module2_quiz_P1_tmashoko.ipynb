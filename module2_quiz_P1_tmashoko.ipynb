{
 "cells": [
  {
   "cell_type": "code",
   "execution_count": 1,
   "metadata": {},
   "outputs": [],
   "source": [
    "# read csv data file\n",
    "import csv\n",
    "f = open(\"module2_quiz_P1.csv\")\n",
    "csvfile = csv.DictReader(f)\n",
    "\n",
    "headers = csvfile.fieldnames\n",
    "\n",
    "table = []\n",
    "for row in csvfile:\n",
    "    table.append(row)\n",
    "    \n",
    "f.close()"
   ]
  },
  {
   "cell_type": "code",
   "execution_count": 2,
   "metadata": {},
   "outputs": [],
   "source": [
    "# define set of Segments\n",
    "Segments = []\n",
    "for row in table:\n",
    "    if row['Segment'] != 'Cost per ad':\n",
    "        Segments.append(row['Segment'])\n",
    "        \n",
    "# define set of Outlets\n",
    "Outlets = headers[:]\n",
    "Outlets.remove('Segment')\n",
    "Outlets.remove('Minimum Impressions')"
   ]
  },
  {
   "cell_type": "code",
   "execution_count": 3,
   "metadata": {},
   "outputs": [],
   "source": [
    "# define parameters\n",
    "Cost = {}\n",
    "for o in Outlets:\n",
    "    Cost[o] = float(table[-1][o])\n",
    "\n",
    "Demand = {}\n",
    "for row in table:\n",
    "    if row['Segment'] != 'Cost per ad':\n",
    "        Demand[row['Segment']] = float(row['Minimum Impressions'])\n",
    "        \n",
    "Impressions = {}\n",
    "for row in table:\n",
    "    if row['Segment'] != 'Cost per ad':\n",
    "        for o in Outlets:\n",
    "            Impressions[(row['Segment'],o)] = float(row[o])"
   ]
  },
  {
   "cell_type": "code",
   "execution_count": 4,
   "metadata": {},
   "outputs": [
    {
     "name": "stdout",
     "output_type": "stream",
     "text": [
      "{('WWC', 'R'): 500.0, ('WWC', 'TV1'): 3000.0, ('WWC', 'TV2'): 2000.0, ('WWC', 'TV3'): 4000.0, ('WWC', 'W'): 25.0, ('WWC', 'M'): 50.0, ('TTL', 'R'): 3.0, ('TTL', 'TV1'): 150.0, ('TTL', 'TV2'): 250.0, ('TTL', 'TV3'): 300.0, ('TTL', 'W'): 1700.0, ('TTL', 'M'): 2000.0, ('NEN', 'R'): 1500.0, ('NEN', 'TV1'): 2500.0, ('NEN', 'TV2'): 4000.0, ('NEN', 'TV3'): 2000.0, ('NEN', 'W'): 150.0, ('NEN', 'M'): 0.0, ('ILC', 'R'): 0.0, ('ILC', 'TV1'): 500.0, ('ILC', 'TV2'): 1000.0, ('ILC', 'TV3'): 1500.0, ('ILC', 'W'): 100.0, ('ILC', 'M'): 0.0}\n"
     ]
    }
   ],
   "source": [
    "print(Impressions)"
   ]
  },
  {
   "cell_type": "code",
   "execution_count": 5,
   "metadata": {},
   "outputs": [],
   "source": [
    "from docplex.mp.model import Model\n",
    "mdl = Model()"
   ]
  },
  {
   "cell_type": "code",
   "execution_count": 6,
   "metadata": {},
   "outputs": [],
   "source": [
    "# Define decision variables\n",
    "NumberofAds = mdl.continuous_var_dict(Outlets, lb=0, name=\"NumberofAds\")"
   ]
  },
  {
   "cell_type": "code",
   "execution_count": 7,
   "metadata": {},
   "outputs": [],
   "source": [
    "# Define objective function\n",
    "total_cost = mdl.sum(Cost[o] * NumberofAds[o] for o in Outlets)\n",
    "mdl.minimize(total_cost)"
   ]
  },
  {
   "cell_type": "code",
   "execution_count": 8,
   "metadata": {},
   "outputs": [],
   "source": [
    "# Define constraints\n",
    "for s in Segments:\n",
    "    mdl.add_constraint(mdl.sum(Impressions[(s, o)] * NumberofAds[o] for o in Outlets) >= Demand[s])"
   ]
  },
  {
   "cell_type": "code",
   "execution_count": 9,
   "metadata": {},
   "outputs": [
    {
     "data": {
      "text/plain": [
       "docplex.mp.SolveDetails(time=0,status='optimal')"
      ]
     },
     "execution_count": 9,
     "metadata": {},
     "output_type": "execute_result"
    }
   ],
   "source": [
    "# solve\n",
    "mdl.solve()\n",
    "mdl.get_solve_details()"
   ]
  },
  {
   "cell_type": "code",
   "execution_count": 10,
   "metadata": {},
   "outputs": [
    {
     "name": "stdout",
     "output_type": "stream",
     "text": [
      "objective: 11348.667\n",
      "status: OPTIMAL_SOLUTION(2)\n",
      "  NumberofAds_TV3=34.667\n",
      "  NumberofAds_M=29.800\n"
     ]
    }
   ],
   "source": [
    "mdl.print_solution()\n"
   ]
  },
  {
   "cell_type": "code",
   "execution_count": 11,
   "metadata": {},
   "outputs": [
    {
     "data": {
      "text/plain": [
       "docplex.mp.LinearConstraint[](100NumberofAds_W+90NumberofAds_M,LE,11.250NumberofAds_R+41.250NumberofAds_TV1+45NumberofAds_TV2+37.500NumberofAds_TV3+15NumberofAds_W+13.500NumberofAds_M)"
      ]
     },
     "execution_count": 11,
     "metadata": {},
     "output_type": "execute_result"
    }
   ],
   "source": [
    "# Add new constraint for web and mobile advertising spending\n",
    "mdl.add_constraint(100 * NumberofAds['W'] + 90 * NumberofAds['M'] <= 0.15 * total_cost)\n"
   ]
  },
  {
   "cell_type": "code",
   "execution_count": 12,
   "metadata": {},
   "outputs": [
    {
     "data": {
      "text/plain": [
       "docplex.mp.SolveDetails(time=0,status='optimal')"
      ]
     },
     "execution_count": 12,
     "metadata": {},
     "output_type": "execute_result"
    }
   ],
   "source": [
    "mdl.solve()\n",
    "mdl.get_solve_details()"
   ]
  },
  {
   "cell_type": "code",
   "execution_count": 13,
   "metadata": {},
   "outputs": [
    {
     "name": "stdout",
     "output_type": "stream",
     "text": [
      "objective: 16079.632\n",
      "status: OPTIMAL_SOLUTION(2)\n",
      "  NumberofAds_TV3=54.671\n",
      "  NumberofAds_M=26.799\n"
     ]
    }
   ],
   "source": [
    "mdl.print_solution()"
   ]
  },
  {
   "cell_type": "code",
   "execution_count": null,
   "metadata": {},
   "outputs": [],
   "source": []
  }
 ],
 "metadata": {
  "kernelspec": {
   "display_name": "Python 3 (ipykernel)",
   "language": "python",
   "name": "python3"
  },
  "language_info": {
   "codemirror_mode": {
    "name": "ipython",
    "version": 3
   },
   "file_extension": ".py",
   "mimetype": "text/x-python",
   "name": "python",
   "nbconvert_exporter": "python",
   "pygments_lexer": "ipython3",
   "version": "3.10.14"
  }
 },
 "nbformat": 4,
 "nbformat_minor": 4
}
