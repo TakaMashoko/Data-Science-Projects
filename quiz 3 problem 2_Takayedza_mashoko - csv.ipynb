{
 "cells": [
  {
   "cell_type": "markdown",
   "metadata": {},
   "source": [
    "<b>Quiz 3 - Problem 2</b>"
   ]
  },
  {
   "cell_type": "code",
   "execution_count": 1,
   "metadata": {},
   "outputs": [],
   "source": [
    "# data\n",
    "\n",
    "import csv\n",
    "f = open(\"quiz 3 problem 2.csv\")\n",
    "csvfile = csv.DictReader(f, delimiter=',')\n",
    "headers = csvfile.fieldnames\n",
    "\n",
    "table = []\n",
    "for row in csvfile:\n",
    "    table.append(row)\n",
    "    \n",
    "f.close()\n",
    "\n",
    "# Create set of Nodes.\n",
    "Nodes = set()\n",
    "# Create dictionary \"Distance\" for each arc.\n",
    "# We can borrow the keys from this dictionary to define the arc set of the network.\n",
    "Distance = {}\n",
    "for row in table:\n",
    "    fromNode = row['From']\n",
    "    toNode = row['To']\n",
    "    Distance[(fromNode,toNode)] = float(row['Distance (miles)'])\n",
    "    Nodes.add(fromNode)\n",
    "    Nodes.add(toNode)\n",
    "\n",
    "Arcs = Distance.keys()"
   ]
  },
  {
   "cell_type": "code",
   "execution_count": 2,
   "metadata": {},
   "outputs": [],
   "source": [
    "Commodities = {'C1', 'C2'}\n",
    "Origin = { 'C1' : '1', 'C2' : '2'}\n",
    "Destination = { 'C1' : 'P', 'C2' : 'P'}\n",
    "Volume = { 'C1' : 1, 'C2' : 1}"
   ]
  },
  {
   "cell_type": "code",
   "execution_count": 3,
   "metadata": {},
   "outputs": [
    {
     "name": "stdout",
     "output_type": "stream",
     "text": [
      "{('1', '3'): 2, ('2', '4'): 2, ('3', '4'): 2, ('3', '5'): 2, ('3', '6'): 2, ('4', '3'): 2, ('4', '6'): 2, ('4', '7'): 2, ('5', '8'): 1, ('6', '9'): 1, ('7', '10'): 1, ('8', '11'): 2, ('8', '12'): 2, ('9', '11'): 2, ('9', '12'): 2, ('10', '12'): 2, ('11', 'P'): 2, ('12', 'P'): 2}\n"
     ]
    }
   ],
   "source": [
    "\n",
    "Capacity = {}\n",
    "\n",
    "# Loop through the arcs and insert values into the dictionary\n",
    "for arc in Arcs:\n",
    "    if arc in [('5', '8'), ('6', '9'), ('7', '10')]:\n",
    "        Capacity[arc] = 1\n",
    "    else:\n",
    "        Capacity[arc] = 2\n",
    "\n",
    "# Print the resulting dictionary\n",
    "print(Capacity)\n"
   ]
  },
  {
   "cell_type": "code",
   "execution_count": 4,
   "metadata": {},
   "outputs": [],
   "source": [
    "# define supply/demand for each node and each commodity\n",
    "Supply = {}\n",
    "for i in Nodes:\n",
    "    for k in Commodities:\n",
    "        if i==Origin[k]:\n",
    "            Supply[i,k] = -Volume[k]\n",
    "        elif i==Destination[k]:\n",
    "            Supply[i,k] = Volume[k]\n",
    "        else:\n",
    "            Supply[i,k] = 0"
   ]
  },
  {
   "cell_type": "code",
   "execution_count": 5,
   "metadata": {},
   "outputs": [],
   "source": [
    "# define a set of arc/commodity pairs (useful for variables)\n",
    "ArcCommodities = { (i,j,k) for (i,j) in Arcs for k in Commodities }"
   ]
  },
  {
   "cell_type": "code",
   "execution_count": 6,
   "metadata": {},
   "outputs": [],
   "source": [
    "from docplex.mp.model import Model\n",
    "mdl = Model()"
   ]
  },
  {
   "cell_type": "code",
   "execution_count": 7,
   "metadata": {},
   "outputs": [],
   "source": [
    "shipped = mdl.continuous_var_dict(ArcCommodities, lb=0, name='shipped')"
   ]
  },
  {
   "cell_type": "code",
   "execution_count": 8,
   "metadata": {},
   "outputs": [],
   "source": [
    "# objective\n",
    "mdl.minimize(mdl.sum(Distance[i,j]*shipped[i,j,k] for (i,j,k) in shipped))"
   ]
  },
  {
   "cell_type": "code",
   "execution_count": 9,
   "metadata": {},
   "outputs": [],
   "source": [
    "# flow balance constraints for each commodity and for each node\n",
    "for k in Commodities:\n",
    "    for j in Nodes:\n",
    "        inflow = sum(shipped[i,j,k] for i in Nodes if (i,j) in Arcs)\n",
    "        outflow = sum(shipped[j,i,k] for i in Nodes if (j,i) in Arcs)\n",
    "        mdl.add_constraint(inflow - outflow == Supply[j,k])"
   ]
  },
  {
   "cell_type": "code",
   "execution_count": 10,
   "metadata": {},
   "outputs": [],
   "source": [
    "# define arc capacity constraints (over all commodities)\n",
    "for (i,j) in Arcs:\n",
    "    mdl.add_constraint(mdl.sum(shipped[i,j,k] for k in Commodities) <= Capacity[i,j])"
   ]
  },
  {
   "cell_type": "code",
   "execution_count": 11,
   "metadata": {},
   "outputs": [
    {
     "data": {
      "text/plain": [
       "docplex.mp.SolveDetails(time=0,status='optimal')"
      ]
     },
     "execution_count": 11,
     "metadata": {},
     "output_type": "execute_result"
    }
   ],
   "source": [
    "# solve\n",
    "mdl.solve()\n",
    "mdl.get_solve_details()"
   ]
  },
  {
   "cell_type": "code",
   "execution_count": 12,
   "metadata": {},
   "outputs": [
    {
     "name": "stdout",
     "output_type": "stream",
     "text": [
      "objective: 585.000\n",
      "status: OPTIMAL_SOLUTION(2)\n",
      "  shipped_8_11_C1=1.000\n",
      "  shipped_2_4_C2=1.000\n",
      "  shipped_11_P_C1=1.000\n",
      "  shipped_4_6_C2=1.000\n",
      "  shipped_5_8_C1=1.000\n",
      "  shipped_3_5_C1=1.000\n",
      "  shipped_12_P_C2=1.000\n",
      "  shipped_9_12_C2=1.000\n",
      "  shipped_1_3_C1=1.000\n",
      "  shipped_6_9_C2=1.000\n"
     ]
    }
   ],
   "source": [
    "mdl.print_solution()"
   ]
  },
  {
   "cell_type": "code",
   "execution_count": 13,
   "metadata": {},
   "outputs": [
    {
     "name": "stdout",
     "output_type": "stream",
     "text": [
      "Route 1: 1 -> 3 -> 5 -> 8 -> 11 -> P\n",
      "Route 2: 2 -> 4 -> 6 -> 9 -> 12 -> P\n"
     ]
    }
   ],
   "source": [
    "# Extracting the solution and determining the paths\n",
    "path_1 = ['1']\n",
    "path_2 = ['2']\n",
    "\n",
    "current_node_1 = '1'\n",
    "current_node_2 = '2'\n",
    "\n",
    "# Trace the path for shipment C1\n",
    "while current_node_1 != 'P':\n",
    "    for (i, j, k) in shipped:\n",
    "        if k == 'C1' and i == current_node_1 and shipped[i, j, k].solution_value > 0:\n",
    "            path_1.append(j)\n",
    "            current_node_1 = j\n",
    "            break\n",
    "\n",
    "# Trace the path for shipment C2\n",
    "while current_node_2 != 'P':\n",
    "    for (i, j, k) in shipped:\n",
    "        if k == 'C2' and i == current_node_2 and shipped[i, j, k].solution_value > 0:\n",
    "            path_2.append(j)\n",
    "            current_node_2 = j\n",
    "            break\n",
    "\n",
    "print(\"Route 1:\", ' -> '.join(path_1))\n",
    "print(\"Route 2:\", ' -> '.join(path_2))"
   ]
  },
  {
   "cell_type": "code",
   "execution_count": 14,
   "metadata": {},
   "outputs": [
    {
     "name": "stdout",
     "output_type": "stream",
     "text": [
      "objective: 634.000\n",
      "status: OPTIMAL_SOLUTION(2)\n",
      "  shipped_2_4_C2=1.000\n",
      "  shipped_10_12_C2=1.000\n",
      "  shipped_9_12_C1=1.000\n",
      "  shipped_6_9_C1=1.000\n",
      "  shipped_4_7_C2=1.000\n",
      "  shipped_3_6_C1=1.000\n",
      "  shipped_12_P_C2=1.000\n",
      "  shipped_7_10_C2=1.000\n",
      "  shipped_1_3_C1=1.000\n",
      "  shipped_12_P_C1=1.000\n",
      "Route 1: 1 -> 3 -> 6 -> 9 -> 12 -> P\n",
      "Route 2: 2 -> 4 -> 7 -> 10 -> 12 -> P\n"
     ]
    }
   ],
   "source": [
    "import csv\n",
    "\n",
    "\n",
    "# Read the CSV file\n",
    "f = open(\"quiz 3 problem 2.csv\")\n",
    "csvfile = csv.DictReader(f, delimiter=',')\n",
    "headers = csvfile.fieldnames\n",
    "\n",
    "# Parse the CSV file\n",
    "table = []\n",
    "for row in csvfile:\n",
    "    table.append(row)\n",
    "f.close()\n",
    "\n",
    "# Create set of Nodes\n",
    "Nodes = set()\n",
    "# Create dictionary \"Distance\" for each arc\n",
    "Distance = {}\n",
    "for row in table:\n",
    "    fromNode = row['From']\n",
    "    toNode = row['To']\n",
    "    if (fromNode, toNode) != ('5', '8'):  # Exclude arc (5, 8)\n",
    "        Distance[(fromNode, toNode)] = float(row['Distance (miles)'])\n",
    "        Nodes.add(fromNode)\n",
    "        Nodes.add(toNode)\n",
    "\n",
    "# Define arcs and commodities\n",
    "Arcs = Distance.keys()\n",
    "Commodities = {'C1', 'C2'}\n",
    "Origin = {'C1': '1', 'C2': '2'}\n",
    "Destination = {'C1': 'P', 'C2': 'P'}\n",
    "Volume = {'C1': 1, 'C2': 1}\n",
    "\n",
    "# Define capacity for arcs\n",
    "Capacity = {}\n",
    "for arc in Arcs:\n",
    "    if arc in [('6', '9'), ('7', '10')]:\n",
    "        Capacity[arc] = 1\n",
    "    else:\n",
    "        Capacity[arc] = 2\n",
    "\n",
    "# Define supply/demand for each node and each commodity\n",
    "Supply = {}\n",
    "for i in Nodes:\n",
    "    for k in Commodities:\n",
    "        if i == Origin[k]:\n",
    "            Supply[(i, k)] = -Volume[k]\n",
    "        elif i == Destination[k]:\n",
    "            Supply[(i, k)] = Volume[k]\n",
    "        else:\n",
    "            Supply[(i, k)] = 0\n",
    "\n",
    "# Define a set of arc/commodity pairs\n",
    "ArcCommodities = {(i, j, k) for (i, j) in Arcs for k in Commodities}\n",
    "\n",
    "# Create the model\n",
    "from docplex.mp.model import Model\n",
    "mdl = Model()\n",
    "\n",
    "# Define decision variables\n",
    "shipped = mdl.continuous_var_dict(ArcCommodities, lb=0, name='shipped')\n",
    "\n",
    "# Objective function: Minimize total distance\n",
    "mdl.minimize(mdl.sum(Distance[i, j] * shipped[i, j, k] for (i, j, k) in shipped))\n",
    "\n",
    "# Flow balance constraints for each commodity and for each node\n",
    "for k in Commodities:\n",
    "    for j in Nodes:\n",
    "        inflow = mdl.sum(shipped[i, j, k] for i in Nodes if (i, j) in Arcs)\n",
    "        outflow = mdl.sum(shipped[j, i, k] for i in Nodes if (j, i) in Arcs)\n",
    "        mdl.add_constraint(inflow - outflow == Supply[j, k])\n",
    "\n",
    "# Arc capacity constraints (over all commodities)\n",
    "for (i, j) in Arcs:\n",
    "    mdl.add_constraint(mdl.sum(shipped[i, j, k] for k in Commodities) <= Capacity[i, j])\n",
    "\n",
    "# Solve the model\n",
    "solution = mdl.solve()\n",
    "mdl.get_solve_details()\n",
    "\n",
    "# Print the solution\n",
    "mdl.print_solution()\n",
    "\n",
    "# Extracting the solution and determining the paths\n",
    "path_1 = ['1']\n",
    "path_2 = ['2']\n",
    "\n",
    "current_node_1 = '1'\n",
    "current_node_2 = '2'\n",
    "\n",
    "# Trace the path for shipment C1\n",
    "while current_node_1 != 'P':\n",
    "    for (i, j, k) in shipped:\n",
    "        if k == 'C1' and i == current_node_1 and shipped[i, j, k].solution_value > 0:\n",
    "            path_1.append(j)\n",
    "            current_node_1 = j\n",
    "            break\n",
    "\n",
    "# Trace the path for shipment C2\n",
    "while current_node_2 != 'P':\n",
    "    for (i, j, k) in shipped:\n",
    "        if k == 'C2' and i == current_node_2 and shipped[i, j, k].solution_value > 0:\n",
    "            path_2.append(j)\n",
    "            current_node_2 = j\n",
    "            break\n",
    "\n",
    "print(\"Route 1:\", ' -> '.join(path_1))\n",
    "print(\"Route 2:\", ' -> '.join(path_2))"
   ]
  },
  {
   "cell_type": "code",
   "execution_count": null,
   "metadata": {},
   "outputs": [],
   "source": []
  }
 ],
 "metadata": {
  "kernelspec": {
   "display_name": "Python 3 (ipykernel)",
   "language": "python",
   "name": "python3"
  },
  "language_info": {
   "codemirror_mode": {
    "name": "ipython",
    "version": 3
   },
   "file_extension": ".py",
   "mimetype": "text/x-python",
   "name": "python",
   "nbconvert_exporter": "python",
   "pygments_lexer": "ipython3",
   "version": "3.10.14"
  }
 },
 "nbformat": 4,
 "nbformat_minor": 4
}
