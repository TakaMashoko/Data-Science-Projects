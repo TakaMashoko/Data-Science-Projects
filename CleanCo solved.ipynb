{
 "cells": [
  {
   "cell_type": "code",
   "execution_count": 1,
   "metadata": {},
   "outputs": [],
   "source": [
    "Warehouses = {'w1', 'w2', 'w3'}\n",
    "Retailers = {'r1', 'r2', 'r3', 'r4'}\n",
    "Cost = {\n",
    "    ('w1', 'r1') : 7, \t('w1', 'r2') : 3, \t('w1', 'r3') : 8, \t('w1', 'r4') : 4, \n",
    "    ('w2', 'r1') : 9, \t('w2', 'r2') : 5, \t('w2', 'r3') : 6, \t('w2', 'r4') : 3, \n",
    "    ('w3', 'r1') : 4, \t('w3', 'r2') : 6, \t('w3', 'r3') : 9, \t('w3', 'r4') : 6\n",
    "}\n",
    "Supply = { 'w1' : 6000, 'w2' : 9000, 'w3' : 4000 }\n",
    "Demand = { 'r1' : 3900, 'r2' : 5200, 'r3' : 2700, 'r4' : 6400 }"
   ]
  },
  {
   "cell_type": "code",
   "execution_count": 2,
   "metadata": {},
   "outputs": [],
   "source": [
    "from docplex.mp.model import Model\n",
    "mdl = Model()"
   ]
  },
  {
   "cell_type": "code",
   "execution_count": 3,
   "metadata": {},
   "outputs": [],
   "source": [
    "# variables\n",
    "shipped = mdl.continuous_var_matrix(Warehouses, Retailers, lb=0, name='shipped')"
   ]
  },
  {
   "cell_type": "code",
   "execution_count": 4,
   "metadata": {},
   "outputs": [],
   "source": [
    "# objective\n",
    "mdl.minimize(mdl.sum(Cost[w,r]*shipped[w,r] for w in Warehouses for r in Retailers))"
   ]
  },
  {
   "cell_type": "code",
   "execution_count": 5,
   "metadata": {},
   "outputs": [],
   "source": [
    "# supply constraints\n",
    "for w in Warehouses:\n",
    "    mdl.add_constraint(mdl.sum(shipped[w,r] for r in Retailers) <= Supply[w])"
   ]
  },
  {
   "cell_type": "code",
   "execution_count": 7,
   "metadata": {},
   "outputs": [],
   "source": [
    "# demand constraints\n",
    "for r in Retailers:\n",
    "    mdl.add_constraint(mdl.sum(shipped[w,r] for w in Warehouses) >= Demand[r])"
   ]
  },
  {
   "cell_type": "code",
   "execution_count": 8,
   "metadata": {},
   "outputs": [
    {
     "data": {
      "text/plain": [
       "docplex.mp.SolveDetails(time=0,status='optimal')"
      ]
     },
     "execution_count": 8,
     "metadata": {},
     "output_type": "execute_result"
    }
   ],
   "source": [
    "# solve\n",
    "mdl.solve()\n",
    "mdl.get_solve_details()"
   ]
  },
  {
   "cell_type": "code",
   "execution_count": 9,
   "metadata": {},
   "outputs": [
    {
     "name": "stdout",
     "output_type": "stream",
     "text": [
      "objective: 66700.000\n",
      "  shipped_w2_r4=6300.000\n",
      "  shipped_w2_r3=2700.000\n",
      "  shipped_w3_r1=3900.000\n",
      "  shipped_w1_r2=5200.000\n",
      "  shipped_w1_r4=100.000\n"
     ]
    }
   ],
   "source": [
    "mdl.print_solution()"
   ]
  },
  {
   "cell_type": "code",
   "execution_count": 10,
   "metadata": {},
   "outputs": [
    {
     "data": {
      "text/plain": [
       "docplex.mp.LinearConstraint[](shipped_w1_r2,EQ,0)"
      ]
     },
     "execution_count": 10,
     "metadata": {},
     "output_type": "execute_result"
    }
   ],
   "source": [
    "# Online question: \n",
    "mdl.add_constraint(shipped['w1','r2'] == 0)"
   ]
  },
  {
   "cell_type": "code",
   "execution_count": 11,
   "metadata": {},
   "outputs": [
    {
     "data": {
      "text/plain": [
       "docplex.mp.SolveDetails(time=0.016,status='optimal')"
      ]
     },
     "execution_count": 11,
     "metadata": {},
     "output_type": "execute_result"
    }
   ],
   "source": [
    "mdl.solve()\n",
    "mdl.get_solve_details()"
   ]
  },
  {
   "cell_type": "code",
   "execution_count": 12,
   "metadata": {},
   "outputs": [
    {
     "name": "stdout",
     "output_type": "stream",
     "text": [
      "objective: 82300.000\n",
      "  shipped_w2_r2=5200.000\n",
      "  shipped_w2_r4=1100.000\n",
      "  shipped_w2_r3=2700.000\n",
      "  shipped_w3_r1=3900.000\n",
      "  shipped_w1_r4=5300.000\n"
     ]
    }
   ],
   "source": [
    "mdl.print_solution()"
   ]
  },
  {
   "cell_type": "code",
   "execution_count": 13,
   "metadata": {},
   "outputs": [
    {
     "name": "stdout",
     "output_type": "stream",
     "text": [
      "15600\n"
     ]
    }
   ],
   "source": [
    "print(82300-66700)"
   ]
  },
  {
   "cell_type": "code",
   "execution_count": null,
   "metadata": {},
   "outputs": [],
   "source": []
  }
 ],
 "metadata": {
  "kernelspec": {
   "display_name": "Python 3",
   "language": "python",
   "name": "python3"
  },
  "language_info": {
   "codemirror_mode": {
    "name": "ipython",
    "version": 3
   },
   "file_extension": ".py",
   "mimetype": "text/x-python",
   "name": "python",
   "nbconvert_exporter": "python",
   "pygments_lexer": "ipython3",
   "version": "3.6.8"
  }
 },
 "nbformat": 4,
 "nbformat_minor": 2
}
