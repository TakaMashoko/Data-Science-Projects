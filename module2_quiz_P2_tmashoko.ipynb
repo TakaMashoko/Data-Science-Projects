{
 "cells": [
  {
   "cell_type": "code",
   "execution_count": 1,
   "metadata": {},
   "outputs": [],
   "source": [
    "import csv\n",
    "\n",
    "# read demand data\n",
    "f = open(\"module2_quiz_P2a.csv\")\n",
    "csvfile = csv.DictReader(f)\n",
    "headers = csvfile.fieldnames\n",
    "\n",
    "table = []\n",
    "for row in csvfile:\n",
    "    table.append(row)\n",
    "    \n",
    "f.close()\n",
    "\n",
    "Groups = []\n",
    "Demand = {}\n",
    "Months = range(1,6)\n",
    "for row in table:\n",
    "    Groups.append(row['Demand (tonne)'])\n",
    "    for m in Months:\n",
    "        Demand[(row['Demand (tonne)'], m)] = float(row[str(\"Month \"+str(m))])\n",
    "\n",
    "# read cost data\n",
    "f = open(\"module2_quiz_P2b.csv\")\n",
    "csvfile = csv.DictReader(f)\n",
    "headers = csvfile.fieldnames\n",
    "\n",
    "table = []\n",
    "for row in csvfile:\n",
    "    table.append(row)\n",
    "    \n",
    "f.close()\n",
    "                \n",
    "Cost = {}\n",
    "for row in table:\n",
    "    for m in Months:\n",
    "        Cost[(row['Production cost ($/tonne)'], m)] = float(row[str(\"Month \"+str(m))])"
   ]
  },
  {
   "cell_type": "code",
   "execution_count": 2,
   "metadata": {},
   "outputs": [],
   "source": [
    "from docplex.mp.model import Model\n",
    "mdl = Model()"
   ]
  },
  {
   "cell_type": "code",
   "execution_count": 3,
   "metadata": {},
   "outputs": [],
   "source": [
    "# Decision variables\n",
    "x = mdl.continuous_var_matrix(Groups, Months, lb=0, name='production')\n",
    "s = mdl.continuous_var_matrix(Groups, Months, lb=0, name='storage')\n",
    "\n",
    "# Objective function\n",
    "total_cost = mdl.sum(Cost[grp, m] * x[grp, m] for grp in Groups for m in Months) + \\\n",
    "             50 * mdl.sum(s[grp, m] for grp in Groups for m in Months)\n",
    "mdl.minimize(total_cost)\n",
    "\n",
    "# Constraints\n",
    "for m in Months:\n",
    "    # Processing capacity constraint\n",
    "    mdl.add_constraint(mdl.sum(x[grp, m] for grp in Groups) <= 175, f'processing_capacity_{m}')\n",
    "    \n",
    "    # Storage capacity constraint\n",
    "    mdl.add_constraint(mdl.sum(s[grp, m] for grp in Groups) <= 50, f'storage_capacity_{m}')\n",
    "    \n",
    "    for grp in Groups:\n",
    "        if m == 1:\n",
    "            # Updated initial inventory constraints\n",
    "            if grp == 'Medium':\n",
    "                available_storage = 5.3\n",
    "            elif grp == 'Large':\n",
    "                available_storage = 2.3\n",
    "            elif grp == 'Small':\n",
    "                available_storage = 3.7\n",
    "            else:\n",
    "                available_storage = 0\n",
    "        else:\n",
    "            available_storage = 0.96 * s[grp, m-1]\n",
    "        \n",
    "        # Demand constraint\n",
    "        mdl.add_constraint(x[grp, m] + available_storage - s[grp, m] == Demand[grp, m], f'demand_{grp}_{m}')\n",
    "\n"
   ]
  },
  {
   "cell_type": "code",
   "execution_count": 4,
   "metadata": {},
   "outputs": [
    {
     "data": {
      "text/plain": [
       "docplex.mp.SolveDetails(time=0,status='optimal')"
      ]
     },
     "execution_count": 4,
     "metadata": {},
     "output_type": "execute_result"
    }
   ],
   "source": [
    "# solve\n",
    "mdl.solve()\n",
    "mdl.get_solve_details()"
   ]
  },
  {
   "cell_type": "code",
   "execution_count": 5,
   "metadata": {},
   "outputs": [
    {
     "name": "stdout",
     "output_type": "stream",
     "text": [
      "objective: 253176.004\n",
      "status: OPTIMAL_SOLUTION(2)\n",
      "  production_Large_1=28.700\n",
      "  production_Large_2=25.000\n",
      "  production_Large_3=45.000\n",
      "  production_Large_4=59.000\n",
      "  production_Large_5=44.000\n",
      "  production_Medium_1=44.700\n",
      "  production_Medium_2=41.000\n",
      "  production_Medium_3=70.000\n",
      "  production_Medium_4=80.000\n",
      "  production_Medium_5=60.000\n",
      "  production_Small_1=38.300\n",
      "  production_Small_2=63.854\n",
      "  production_Small_3=60.000\n",
      "  production_Small_4=36.000\n",
      "  production_Small_5=56.000\n",
      "  storage_Small_2=33.854\n",
      "  storage_Small_3=37.500\n"
     ]
    }
   ],
   "source": [
    "mdl.print_solution()"
   ]
  }
 ],
 "metadata": {
  "kernelspec": {
   "display_name": "Python 3 (ipykernel)",
   "language": "python",
   "name": "python3"
  },
  "language_info": {
   "codemirror_mode": {
    "name": "ipython",
    "version": 3
   },
   "file_extension": ".py",
   "mimetype": "text/x-python",
   "name": "python",
   "nbconvert_exporter": "python",
   "pygments_lexer": "ipython3",
   "version": "3.10.14"
  }
 },
 "nbformat": 4,
 "nbformat_minor": 4
}
