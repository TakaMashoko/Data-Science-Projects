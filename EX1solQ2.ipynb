{
 "cells": [
  {
   "cell_type": "markdown",
   "metadata": {},
   "source": [
    "# Exercise 1 Solutions\n",
    "\n",
    "*Portions of these solutions are based on student-submitted code.*"
   ]
  },
  {
   "cell_type": "markdown",
   "metadata": {
    "id": "vs_gS3yM0hzn"
   },
   "source": [
    "## Question Two"
   ]
  },
  {
   "cell_type": "code",
   "execution_count": 1,
   "metadata": {
    "id": "ZwHfxPT80hzp"
   },
   "outputs": [],
   "source": [
    "import numpy as np\n",
    "import pandas as pd\n",
    "import matplotlib.pyplot as plt\n",
    "import statsmodels.api as sm\n",
    "from statsmodels.graphics.gofplots import qqplot, qqline\n",
    "import warnings\n",
    "warnings.filterwarnings('ignore')"
   ]
  },
  {
   "cell_type": "markdown",
   "metadata": {
    "id": "iaM43Rop0hzq"
   },
   "source": [
    "Read in the data, and divide the `trade_size` variables by 1000. (Without this transformation, we find that the Yeo-Johnson transformation does not function appropriately."
   ]
  },
  {
   "cell_type": "code",
   "execution_count": 2,
   "metadata": {
    "id": "9csoMbkb0hzq"
   },
   "outputs": [],
   "source": [
    "data = pd.read_csv(\"bonddata.txt\")\n",
    "data = data.drop(['id', 'bond_id'], axis=1)\n",
    "data.iloc[:,range(6,57,5)] = data.iloc[:,range(6,57,5)]/1000.0"
   ]
  },
  {
   "cell_type": "markdown",
   "metadata": {
    "id": "aqy8G4z-0hzq"
   },
   "source": [
    "Transform all of the categorical variables to the appropriate type."
   ]
  },
  {
   "cell_type": "code",
   "execution_count": 3,
   "metadata": {
    "id": "E5hX5ZXU0hzq"
   },
   "outputs": [],
   "source": [
    "data['is_callable'] = data['is_callable'].astype('category').cat.as_unordered()\n",
    "data['trade_type'] = data['trade_type'].astype('category').cat.as_unordered()\n",
    "data['trade_type_last1'] = data['trade_type_last1'].astype('category').cat.as_unordered()\n",
    "data['trade_type_last2'] = data['trade_type_last2'].astype('category').cat.as_unordered()\n",
    "data['trade_type_last3'] = data['trade_type_last3'].astype('category').cat.as_unordered()\n",
    "data['trade_type_last4'] = data['trade_type_last4'].astype('category').cat.as_unordered()\n",
    "data['trade_type_last5'] = data['trade_type_last5'].astype('category').cat.as_unordered()\n",
    "data['trade_type_last6'] = data['trade_type_last6'].astype('category').cat.as_unordered()\n",
    "data['trade_type_last7'] = data['trade_type_last7'].astype('category').cat.as_unordered()\n",
    "data['trade_type_last8'] = data['trade_type_last8'].astype('category').cat.as_unordered()\n",
    "data['trade_type_last9'] = data['trade_type_last9'].astype('category').cat.as_unordered()\n",
    "data['trade_type_last10'] = data['trade_type_last10'].astype('category').cat.as_unordered()"
   ]
  },
  {
   "cell_type": "markdown",
   "metadata": {
    "id": "Zz5i4ktK0hzq"
   },
   "source": [
    "Apply the Yeo-Johnson transformation to all appropriate columns."
   ]
  },
  {
   "cell_type": "code",
   "execution_count": 4,
   "metadata": {
    "id": "KOIryzE30hzq"
   },
   "outputs": [],
   "source": [
    "from scipy.stats import yeojohnson\n",
    "\n",
    "for column in data.columns[1:]:\n",
    "    if data[column].dtypes =='float64' or data[column].dtypes =='int64':\n",
    "        data[column] = yeojohnson(data[column].astype('float64'))[0]"
   ]
  },
  {
   "cell_type": "markdown",
   "metadata": {
    "id": "KgOIVNPt0hzq"
   },
   "source": [
    "Create the columns of dummy variables for the categorical variables."
   ]
  },
  {
   "cell_type": "code",
   "execution_count": 5,
   "metadata": {
    "id": "3uNAx7dH0hzq"
   },
   "outputs": [],
   "source": [
    "datawd = pd.get_dummies(data,drop_first=True)"
   ]
  },
  {
   "cell_type": "markdown",
   "metadata": {
    "id": "92Y-JrHR0hzr"
   },
   "source": [
    "Convert everything to float. R does not appropriately recognize the categorical variables coming from Python."
   ]
  },
  {
   "cell_type": "code",
   "execution_count": 6,
   "metadata": {
    "id": "Fq9OGCjY0hzr"
   },
   "outputs": [],
   "source": [
    "datawd = datawd.astype('float64')"
   ]
  },
  {
   "cell_type": "markdown",
   "metadata": {
    "id": "3ukmv_j40hzr"
   },
   "source": [
    "Call the Box-Cox procedure in R."
   ]
  },
  {
   "cell_type": "code",
   "execution_count": 7,
   "metadata": {
    "id": "YllnlbNg0hzr"
   },
   "outputs": [],
   "source": [
    "import rpy2\n",
    "%load_ext rpy2.ipython"
   ]
  },
  {
   "cell_type": "code",
   "execution_count": 8,
   "metadata": {
    "colab": {
     "base_uri": "https://localhost:8080/",
     "height": 497
    },
    "id": "doQbxiy60hzr",
    "outputId": "0d4f4508-f512-4a88-91ca-bad877a9cfa8"
   },
   "outputs": [
    {
     "data": {
      "image/png": "[encoded data removed]",
      "text/plain": [
       "<IPython.core.display.Image object>"
      ]
     },
     "metadata": {},
     "output_type": "display_data"
    }
   ],
   "source": [
    "%%R -i datawd\n",
    "\n",
    "library(MASS)\n",
    "boxcox(trade_price~., data=datawd)"
   ]
  },
  {
   "cell_type": "markdown",
   "metadata": {
    "id": "4zMyTmyC0hzr"
   },
   "source": [
    "Transform the response using the appropriate value."
   ]
  },
  {
   "cell_type": "code",
   "execution_count": 9,
   "metadata": {
    "id": "YsxHEAet0hzr"
   },
   "outputs": [],
   "source": [
    "datawd['trade_price'] = datawd['trade_price']**1.6"
   ]
  },
  {
   "cell_type": "markdown",
   "metadata": {
    "id": "DV2SsjHs0hzr"
   },
   "source": [
    "Fit the model and report the results."
   ]
  },
  {
   "cell_type": "code",
   "execution_count": 10,
   "metadata": {
    "colab": {
     "base_uri": "https://localhost:8080/",
     "height": 1000
    },
    "id": "2lDlQeWL0hzr",
    "outputId": "bf23f085-dc01-4272-f482-b7621c7f8b19"
   },
   "outputs": [
    {
     "data": {
      "text/html": [
       "<table class=\"simpletable\">\n",
       "<caption>OLS Regression Results</caption>\n",
       "<tr>\n",
       "  <th>Dep. Variable:</th>       <td>trade_price</td>   <th>  R-squared:         </th> <td>   0.980</td> \n",
       "</tr>\n",
       "<tr>\n",
       "  <th>Model:</th>                   <td>OLS</td>       <th>  Adj. R-squared:    </th> <td>   0.979</td> \n",
       "</tr>\n",
       "<tr>\n",
       "  <th>Method:</th>             <td>Least Squares</td>  <th>  F-statistic:       </th> <td>   1120.</td> \n",
       "</tr>\n",
       "<tr>\n",
       "  <th>Date:</th>             <td>Tue, 30 Apr 2024</td> <th>  Prob (F-statistic):</th>  <td>  0.00</td>  \n",
       "</tr>\n",
       "<tr>\n",
       "  <th>Time:</th>                 <td>13:27:16</td>     <th>  Log-Likelihood:    </th> <td> -8338.0</td> \n",
       "</tr>\n",
       "<tr>\n",
       "  <th>No. Observations:</th>      <td>  1620</td>      <th>  AIC:               </th> <td>1.682e+04</td>\n",
       "</tr>\n",
       "<tr>\n",
       "  <th>Df Residuals:</th>          <td>  1550</td>      <th>  BIC:               </th> <td>1.719e+04</td>\n",
       "</tr>\n",
       "<tr>\n",
       "  <th>Df Model:</th>              <td>    69</td>      <th>                     </th>     <td> </td>    \n",
       "</tr>\n",
       "<tr>\n",
       "  <th>Covariance Type:</th>      <td>nonrobust</td>    <th>                     </th>     <td> </td>    \n",
       "</tr>\n",
       "</table>\n",
       "<table class=\"simpletable\">\n",
       "<tr>\n",
       "              <td></td>                 <th>coef</th>     <th>std err</th>      <th>t</th>      <th>P>|t|</th>  <th>[0.025</th>    <th>0.975]</th>  \n",
       "</tr>\n",
       "<tr>\n",
       "  <th>const</th>                     <td>   25.4149</td> <td>   13.860</td> <td>    1.834</td> <td> 0.067</td> <td>   -1.771</td> <td>   52.601</td>\n",
       "</tr>\n",
       "<tr>\n",
       "  <th>weight</th>                    <td>    9.8509</td> <td>    9.336</td> <td>    1.055</td> <td> 0.292</td> <td>   -8.462</td> <td>   28.164</td>\n",
       "</tr>\n",
       "<tr>\n",
       "  <th>current_coupon</th>            <td>    0.4504</td> <td>    0.503</td> <td>    0.896</td> <td> 0.370</td> <td>   -0.536</td> <td>    1.437</td>\n",
       "</tr>\n",
       "<tr>\n",
       "  <th>time_to_maturity</th>          <td>   -0.2940</td> <td>    1.870</td> <td>   -0.157</td> <td> 0.875</td> <td>   -3.961</td> <td>    3.373</td>\n",
       "</tr>\n",
       "<tr>\n",
       "  <th>reporting_delay</th>           <td>   -0.6286</td> <td>    0.189</td> <td>   -3.332</td> <td> 0.001</td> <td>   -0.999</td> <td>   -0.259</td>\n",
       "</tr>\n",
       "<tr>\n",
       "  <th>trade_size</th>                <td>   10.3996</td> <td>    1.705</td> <td>    6.100</td> <td> 0.000</td> <td>    7.056</td> <td>   13.743</td>\n",
       "</tr>\n",
       "<tr>\n",
       "  <th>curve_based_price</th>         <td>    0.5753</td> <td>    0.063</td> <td>    9.137</td> <td> 0.000</td> <td>    0.452</td> <td>    0.699</td>\n",
       "</tr>\n",
       "<tr>\n",
       "  <th>received_time_diff_last1</th>  <td>   -0.6358</td> <td>    0.671</td> <td>   -0.947</td> <td> 0.344</td> <td>   -1.953</td> <td>    0.681</td>\n",
       "</tr>\n",
       "<tr>\n",
       "  <th>trade_price_last1</th>         <td>    0.6061</td> <td>    0.053</td> <td>   11.515</td> <td> 0.000</td> <td>    0.503</td> <td>    0.709</td>\n",
       "</tr>\n",
       "<tr>\n",
       "  <th>trade_size_last1</th>          <td>   -5.6025</td> <td>    2.194</td> <td>   -2.553</td> <td> 0.011</td> <td>   -9.907</td> <td>   -1.298</td>\n",
       "</tr>\n",
       "<tr>\n",
       "  <th>curve_based_price_last1</th>   <td>    0.0103</td> <td>    0.094</td> <td>    0.109</td> <td> 0.913</td> <td>   -0.175</td> <td>    0.195</td>\n",
       "</tr>\n",
       "<tr>\n",
       "  <th>received_time_diff_last2</th>  <td>   -0.0540</td> <td>    0.121</td> <td>   -0.445</td> <td> 0.657</td> <td>   -0.292</td> <td>    0.184</td>\n",
       "</tr>\n",
       "<tr>\n",
       "  <th>trade_price_last2</th>         <td>    0.0468</td> <td>    0.052</td> <td>    0.897</td> <td> 0.370</td> <td>   -0.055</td> <td>    0.149</td>\n",
       "</tr>\n",
       "<tr>\n",
       "  <th>trade_size_last2</th>          <td>    1.4614</td> <td>    2.485</td> <td>    0.588</td> <td> 0.557</td> <td>   -3.414</td> <td>    6.336</td>\n",
       "</tr>\n",
       "<tr>\n",
       "  <th>curve_based_price_last2</th>   <td>   -0.0885</td> <td>    0.086</td> <td>   -1.028</td> <td> 0.304</td> <td>   -0.257</td> <td>    0.080</td>\n",
       "</tr>\n",
       "<tr>\n",
       "  <th>received_time_diff_last3</th>  <td>    0.0929</td> <td>    0.147</td> <td>    0.632</td> <td> 0.527</td> <td>   -0.195</td> <td>    0.381</td>\n",
       "</tr>\n",
       "<tr>\n",
       "  <th>trade_price_last3</th>         <td>    0.0714</td> <td>    0.056</td> <td>    1.283</td> <td> 0.200</td> <td>   -0.038</td> <td>    0.180</td>\n",
       "</tr>\n",
       "<tr>\n",
       "  <th>trade_size_last3</th>          <td>   -1.5602</td> <td>    2.298</td> <td>   -0.679</td> <td> 0.497</td> <td>   -6.069</td> <td>    2.948</td>\n",
       "</tr>\n",
       "<tr>\n",
       "  <th>curve_based_price_last3</th>   <td>   -0.1623</td> <td>    0.092</td> <td>   -1.761</td> <td> 0.078</td> <td>   -0.343</td> <td>    0.018</td>\n",
       "</tr>\n",
       "<tr>\n",
       "  <th>received_time_diff_last4</th>  <td>   -0.0897</td> <td>    0.165</td> <td>   -0.543</td> <td> 0.588</td> <td>   -0.414</td> <td>    0.235</td>\n",
       "</tr>\n",
       "<tr>\n",
       "  <th>trade_price_last4</th>         <td>    0.0979</td> <td>    0.042</td> <td>    2.318</td> <td> 0.021</td> <td>    0.015</td> <td>    0.181</td>\n",
       "</tr>\n",
       "<tr>\n",
       "  <th>trade_size_last4</th>          <td>   -2.1126</td> <td>    2.283</td> <td>   -0.926</td> <td> 0.355</td> <td>   -6.590</td> <td>    2.365</td>\n",
       "</tr>\n",
       "<tr>\n",
       "  <th>curve_based_price_last4</th>   <td>    0.2943</td> <td>    0.104</td> <td>    2.821</td> <td> 0.005</td> <td>    0.090</td> <td>    0.499</td>\n",
       "</tr>\n",
       "<tr>\n",
       "  <th>received_time_diff_last5</th>  <td>   -0.0889</td> <td>    0.202</td> <td>   -0.440</td> <td> 0.660</td> <td>   -0.485</td> <td>    0.307</td>\n",
       "</tr>\n",
       "<tr>\n",
       "  <th>trade_price_last5</th>         <td>    0.0890</td> <td>    0.063</td> <td>    1.420</td> <td> 0.156</td> <td>   -0.034</td> <td>    0.212</td>\n",
       "</tr>\n",
       "<tr>\n",
       "  <th>trade_size_last5</th>          <td>   -1.1027</td> <td>    2.277</td> <td>   -0.484</td> <td> 0.628</td> <td>   -5.570</td> <td>    3.364</td>\n",
       "</tr>\n",
       "<tr>\n",
       "  <th>curve_based_price_last5</th>   <td>   -0.4625</td> <td>    0.123</td> <td>   -3.754</td> <td> 0.000</td> <td>   -0.704</td> <td>   -0.221</td>\n",
       "</tr>\n",
       "<tr>\n",
       "  <th>received_time_diff_last6</th>  <td>   -0.0322</td> <td>    0.235</td> <td>   -0.137</td> <td> 0.891</td> <td>   -0.493</td> <td>    0.428</td>\n",
       "</tr>\n",
       "<tr>\n",
       "  <th>trade_price_last6</th>         <td>   -0.0478</td> <td>    0.041</td> <td>   -1.153</td> <td> 0.249</td> <td>   -0.129</td> <td>    0.033</td>\n",
       "</tr>\n",
       "<tr>\n",
       "  <th>trade_size_last6</th>          <td>    1.9043</td> <td>    2.290</td> <td>    0.832</td> <td> 0.406</td> <td>   -2.588</td> <td>    6.396</td>\n",
       "</tr>\n",
       "<tr>\n",
       "  <th>curve_based_price_last6</th>   <td>    0.2202</td> <td>    0.112</td> <td>    1.968</td> <td> 0.049</td> <td>    0.001</td> <td>    0.440</td>\n",
       "</tr>\n",
       "<tr>\n",
       "  <th>received_time_diff_last7</th>  <td>    0.1920</td> <td>    0.235</td> <td>    0.818</td> <td> 0.413</td> <td>   -0.268</td> <td>    0.652</td>\n",
       "</tr>\n",
       "<tr>\n",
       "  <th>trade_price_last7</th>         <td>    0.1197</td> <td>    0.040</td> <td>    3.016</td> <td> 0.003</td> <td>    0.042</td> <td>    0.198</td>\n",
       "</tr>\n",
       "<tr>\n",
       "  <th>trade_size_last7</th>          <td>   -1.4238</td> <td>    2.436</td> <td>   -0.584</td> <td> 0.559</td> <td>   -6.202</td> <td>    3.354</td>\n",
       "</tr>\n",
       "<tr>\n",
       "  <th>curve_based_price_last7</th>   <td>   -0.0835</td> <td>    0.128</td> <td>   -0.651</td> <td> 0.515</td> <td>   -0.335</td> <td>    0.168</td>\n",
       "</tr>\n",
       "<tr>\n",
       "  <th>received_time_diff_last8</th>  <td>    0.2867</td> <td>    0.262</td> <td>    1.094</td> <td> 0.274</td> <td>   -0.227</td> <td>    0.800</td>\n",
       "</tr>\n",
       "<tr>\n",
       "  <th>trade_price_last8</th>         <td>    0.0246</td> <td>    0.046</td> <td>    0.539</td> <td> 0.590</td> <td>   -0.065</td> <td>    0.114</td>\n",
       "</tr>\n",
       "<tr>\n",
       "  <th>trade_size_last8</th>          <td>    3.6009</td> <td>    2.565</td> <td>    1.404</td> <td> 0.161</td> <td>   -1.430</td> <td>    8.632</td>\n",
       "</tr>\n",
       "<tr>\n",
       "  <th>curve_based_price_last8</th>   <td>   -0.1823</td> <td>    0.138</td> <td>   -1.324</td> <td> 0.186</td> <td>   -0.452</td> <td>    0.088</td>\n",
       "</tr>\n",
       "<tr>\n",
       "  <th>received_time_diff_last9</th>  <td>   -0.1545</td> <td>    0.300</td> <td>   -0.515</td> <td> 0.606</td> <td>   -0.742</td> <td>    0.433</td>\n",
       "</tr>\n",
       "<tr>\n",
       "  <th>trade_price_last9</th>         <td>    0.0942</td> <td>    0.052</td> <td>    1.797</td> <td> 0.073</td> <td>   -0.009</td> <td>    0.197</td>\n",
       "</tr>\n",
       "<tr>\n",
       "  <th>trade_size_last9</th>          <td>   -3.7007</td> <td>    2.605</td> <td>   -1.421</td> <td> 0.156</td> <td>   -8.811</td> <td>    1.409</td>\n",
       "</tr>\n",
       "<tr>\n",
       "  <th>curve_based_price_last9</th>   <td>    0.0476</td> <td>    0.133</td> <td>    0.357</td> <td> 0.721</td> <td>   -0.214</td> <td>    0.309</td>\n",
       "</tr>\n",
       "<tr>\n",
       "  <th>received_time_diff_last10</th> <td>   -0.1981</td> <td>    0.220</td> <td>   -0.900</td> <td> 0.369</td> <td>   -0.630</td> <td>    0.234</td>\n",
       "</tr>\n",
       "<tr>\n",
       "  <th>trade_price_last10</th>        <td>    0.0457</td> <td>    0.050</td> <td>    0.910</td> <td> 0.363</td> <td>   -0.053</td> <td>    0.144</td>\n",
       "</tr>\n",
       "<tr>\n",
       "  <th>trade_size_last10</th>         <td>    1.5953</td> <td>    2.215</td> <td>    0.720</td> <td> 0.471</td> <td>   -2.749</td> <td>    5.940</td>\n",
       "</tr>\n",
       "<tr>\n",
       "  <th>curve_based_price_last10</th>  <td>    0.0826</td> <td>    0.108</td> <td>    0.767</td> <td> 0.443</td> <td>   -0.129</td> <td>    0.294</td>\n",
       "</tr>\n",
       "<tr>\n",
       "  <th>is_callable_1</th>             <td>    3.4226</td> <td>    3.598</td> <td>    0.951</td> <td> 0.342</td> <td>   -3.635</td> <td>   10.480</td>\n",
       "</tr>\n",
       "<tr>\n",
       "  <th>trade_type_3</th>              <td>   42.4398</td> <td>    2.960</td> <td>   14.338</td> <td> 0.000</td> <td>   36.634</td> <td>   48.246</td>\n",
       "</tr>\n",
       "<tr>\n",
       "  <th>trade_type_4</th>              <td>   23.4896</td> <td>    2.723</td> <td>    8.625</td> <td> 0.000</td> <td>   18.148</td> <td>   28.831</td>\n",
       "</tr>\n",
       "<tr>\n",
       "  <th>trade_type_last1_3</th>        <td>  -12.2697</td> <td>    3.254</td> <td>   -3.771</td> <td> 0.000</td> <td>  -18.652</td> <td>   -5.887</td>\n",
       "</tr>\n",
       "<tr>\n",
       "  <th>trade_type_last1_4</th>        <td>   -7.0404</td> <td>    2.944</td> <td>   -2.391</td> <td> 0.017</td> <td>  -12.816</td> <td>   -1.265</td>\n",
       "</tr>\n",
       "<tr>\n",
       "  <th>trade_type_last2_3</th>        <td>   -2.2536</td> <td>    3.244</td> <td>   -0.695</td> <td> 0.487</td> <td>   -8.616</td> <td>    4.109</td>\n",
       "</tr>\n",
       "<tr>\n",
       "  <th>trade_type_last2_4</th>        <td>   -0.0966</td> <td>    2.851</td> <td>   -0.034</td> <td> 0.973</td> <td>   -5.688</td> <td>    5.495</td>\n",
       "</tr>\n",
       "<tr>\n",
       "  <th>trade_type_last3_3</th>        <td>   -3.6078</td> <td>    3.201</td> <td>   -1.127</td> <td> 0.260</td> <td>   -9.887</td> <td>    2.672</td>\n",
       "</tr>\n",
       "<tr>\n",
       "  <th>trade_type_last3_4</th>        <td>   -1.1408</td> <td>    2.896</td> <td>   -0.394</td> <td> 0.694</td> <td>   -6.822</td> <td>    4.540</td>\n",
       "</tr>\n",
       "<tr>\n",
       "  <th>trade_type_last4_3</th>        <td>  -10.4378</td> <td>    3.287</td> <td>   -3.175</td> <td> 0.002</td> <td>  -16.886</td> <td>   -3.990</td>\n",
       "</tr>\n",
       "<tr>\n",
       "  <th>trade_type_last4_4</th>        <td>   -5.4996</td> <td>    2.841</td> <td>   -1.936</td> <td> 0.053</td> <td>  -11.072</td> <td>    0.072</td>\n",
       "</tr>\n",
       "<tr>\n",
       "  <th>trade_type_last5_3</th>        <td>   -5.8543</td> <td>    3.236</td> <td>   -1.809</td> <td> 0.071</td> <td>  -12.202</td> <td>    0.494</td>\n",
       "</tr>\n",
       "<tr>\n",
       "  <th>trade_type_last5_4</th>        <td>   -1.5965</td> <td>    2.912</td> <td>   -0.548</td> <td> 0.584</td> <td>   -7.309</td> <td>    4.116</td>\n",
       "</tr>\n",
       "<tr>\n",
       "  <th>trade_type_last6_3</th>        <td>    0.9204</td> <td>    3.376</td> <td>    0.273</td> <td> 0.785</td> <td>   -5.702</td> <td>    7.543</td>\n",
       "</tr>\n",
       "<tr>\n",
       "  <th>trade_type_last6_4</th>        <td>    1.7782</td> <td>    2.912</td> <td>    0.611</td> <td> 0.541</td> <td>   -3.933</td> <td>    7.489</td>\n",
       "</tr>\n",
       "<tr>\n",
       "  <th>trade_type_last7_3</th>        <td>   -2.0866</td> <td>    3.246</td> <td>   -0.643</td> <td> 0.520</td> <td>   -8.454</td> <td>    4.280</td>\n",
       "</tr>\n",
       "<tr>\n",
       "  <th>trade_type_last7_4</th>        <td>    1.4412</td> <td>    2.897</td> <td>    0.497</td> <td> 0.619</td> <td>   -4.241</td> <td>    7.124</td>\n",
       "</tr>\n",
       "<tr>\n",
       "  <th>trade_type_last8_3</th>        <td>    0.7246</td> <td>    3.179</td> <td>    0.228</td> <td> 0.820</td> <td>   -5.511</td> <td>    6.960</td>\n",
       "</tr>\n",
       "<tr>\n",
       "  <th>trade_type_last8_4</th>        <td>    2.3718</td> <td>    2.837</td> <td>    0.836</td> <td> 0.403</td> <td>   -3.193</td> <td>    7.937</td>\n",
       "</tr>\n",
       "<tr>\n",
       "  <th>trade_type_last9_3</th>        <td>   -4.0305</td> <td>    3.150</td> <td>   -1.279</td> <td> 0.201</td> <td>  -10.210</td> <td>    2.149</td>\n",
       "</tr>\n",
       "<tr>\n",
       "  <th>trade_type_last9_4</th>        <td>   -5.2485</td> <td>    2.848</td> <td>   -1.843</td> <td> 0.066</td> <td>  -10.836</td> <td>    0.339</td>\n",
       "</tr>\n",
       "<tr>\n",
       "  <th>trade_type_last10_3</th>       <td>    0.6816</td> <td>    3.079</td> <td>    0.221</td> <td> 0.825</td> <td>   -5.357</td> <td>    6.721</td>\n",
       "</tr>\n",
       "<tr>\n",
       "  <th>trade_type_last10_4</th>       <td>    1.7173</td> <td>    2.750</td> <td>    0.625</td> <td> 0.532</td> <td>   -3.676</td> <td>    7.110</td>\n",
       "</tr>\n",
       "</table>\n",
       "<table class=\"simpletable\">\n",
       "<tr>\n",
       "  <th>Omnibus:</th>       <td>1875.488</td> <th>  Durbin-Watson:     </th>  <td>   1.983</td> \n",
       "</tr>\n",
       "<tr>\n",
       "  <th>Prob(Omnibus):</th>  <td> 0.000</td>  <th>  Jarque-Bera (JB):  </th> <td>782304.966</td>\n",
       "</tr>\n",
       "<tr>\n",
       "  <th>Skew:</th>           <td>-5.279</td>  <th>  Prob(JB):          </th>  <td>    0.00</td> \n",
       "</tr>\n",
       "<tr>\n",
       "  <th>Kurtosis:</th>       <td>110.137</td> <th>  Cond. No.          </th>  <td>7.44e+04</td> \n",
       "</tr>\n",
       "</table><br/><br/>Notes:<br/>[1] Standard Errors assume that the covariance matrix of the errors is correctly specified.<br/>[2] The condition number is large, 7.44e+04. This might indicate that there are<br/>strong multicollinearity or other numerical problems."
      ],
      "text/plain": [
       "<class 'statsmodels.iolib.summary.Summary'>\n",
       "\"\"\"\n",
       "                            OLS Regression Results                            \n",
       "==============================================================================\n",
       "Dep. Variable:            trade_price   R-squared:                       0.980\n",
       "Model:                            OLS   Adj. R-squared:                  0.979\n",
       "Method:                 Least Squares   F-statistic:                     1120.\n",
       "Date:                Tue, 30 Apr 2024   Prob (F-statistic):               0.00\n",
       "Time:                        13:27:16   Log-Likelihood:                -8338.0\n",
       "No. Observations:                1620   AIC:                         1.682e+04\n",
       "Df Residuals:                    1550   BIC:                         1.719e+04\n",
       "Df Model:                          69                                         \n",
       "Covariance Type:            nonrobust                                         \n",
       "=============================================================================================\n",
       "                                coef    std err          t      P>|t|      [0.025      0.975]\n",
       "---------------------------------------------------------------------------------------------\n",
       "const                        25.4149     13.860      1.834      0.067      -1.771      52.601\n",
       "weight                        9.8509      9.336      1.055      0.292      -8.462      28.164\n",
       "current_coupon                0.4504      0.503      0.896      0.370      -0.536       1.437\n",
       "time_to_maturity             -0.2940      1.870     -0.157      0.875      -3.961       3.373\n",
       "reporting_delay              -0.6286      0.189     -3.332      0.001      -0.999      -0.259\n",
       "trade_size                   10.3996      1.705      6.100      0.000       7.056      13.743\n",
       "curve_based_price             0.5753      0.063      9.137      0.000       0.452       0.699\n",
       "received_time_diff_last1     -0.6358      0.671     -0.947      0.344      -1.953       0.681\n",
       "trade_price_last1             0.6061      0.053     11.515      0.000       0.503       0.709\n",
       "trade_size_last1             -5.6025      2.194     -2.553      0.011      -9.907      -1.298\n",
       "curve_based_price_last1       0.0103      0.094      0.109      0.913      -0.175       0.195\n",
       "received_time_diff_last2     -0.0540      0.121     -0.445      0.657      -0.292       0.184\n",
       "trade_price_last2             0.0468      0.052      0.897      0.370      -0.055       0.149\n",
       "trade_size_last2              1.4614      2.485      0.588      0.557      -3.414       6.336\n",
       "curve_based_price_last2      -0.0885      0.086     -1.028      0.304      -0.257       0.080\n",
       "received_time_diff_last3      0.0929      0.147      0.632      0.527      -0.195       0.381\n",
       "trade_price_last3             0.0714      0.056      1.283      0.200      -0.038       0.180\n",
       "trade_size_last3             -1.5602      2.298     -0.679      0.497      -6.069       2.948\n",
       "curve_based_price_last3      -0.1623      0.092     -1.761      0.078      -0.343       0.018\n",
       "received_time_diff_last4     -0.0897      0.165     -0.543      0.588      -0.414       0.235\n",
       "trade_price_last4             0.0979      0.042      2.318      0.021       0.015       0.181\n",
       "trade_size_last4             -2.1126      2.283     -0.926      0.355      -6.590       2.365\n",
       "curve_based_price_last4       0.2943      0.104      2.821      0.005       0.090       0.499\n",
       "received_time_diff_last5     -0.0889      0.202     -0.440      0.660      -0.485       0.307\n",
       "trade_price_last5             0.0890      0.063      1.420      0.156      -0.034       0.212\n",
       "trade_size_last5             -1.1027      2.277     -0.484      0.628      -5.570       3.364\n",
       "curve_based_price_last5      -0.4625      0.123     -3.754      0.000      -0.704      -0.221\n",
       "received_time_diff_last6     -0.0322      0.235     -0.137      0.891      -0.493       0.428\n",
       "trade_price_last6            -0.0478      0.041     -1.153      0.249      -0.129       0.033\n",
       "trade_size_last6              1.9043      2.290      0.832      0.406      -2.588       6.396\n",
       "curve_based_price_last6       0.2202      0.112      1.968      0.049       0.001       0.440\n",
       "received_time_diff_last7      0.1920      0.235      0.818      0.413      -0.268       0.652\n",
       "trade_price_last7             0.1197      0.040      3.016      0.003       0.042       0.198\n",
       "trade_size_last7             -1.4238      2.436     -0.584      0.559      -6.202       3.354\n",
       "curve_based_price_last7      -0.0835      0.128     -0.651      0.515      -0.335       0.168\n",
       "received_time_diff_last8      0.2867      0.262      1.094      0.274      -0.227       0.800\n",
       "trade_price_last8             0.0246      0.046      0.539      0.590      -0.065       0.114\n",
       "trade_size_last8              3.6009      2.565      1.404      0.161      -1.430       8.632\n",
       "curve_based_price_last8      -0.1823      0.138     -1.324      0.186      -0.452       0.088\n",
       "received_time_diff_last9     -0.1545      0.300     -0.515      0.606      -0.742       0.433\n",
       "trade_price_last9             0.0942      0.052      1.797      0.073      -0.009       0.197\n",
       "trade_size_last9             -3.7007      2.605     -1.421      0.156      -8.811       1.409\n",
       "curve_based_price_last9       0.0476      0.133      0.357      0.721      -0.214       0.309\n",
       "received_time_diff_last10    -0.1981      0.220     -0.900      0.369      -0.630       0.234\n",
       "trade_price_last10            0.0457      0.050      0.910      0.363      -0.053       0.144\n",
       "trade_size_last10             1.5953      2.215      0.720      0.471      -2.749       5.940\n",
       "curve_based_price_last10      0.0826      0.108      0.767      0.443      -0.129       0.294\n",
       "is_callable_1                 3.4226      3.598      0.951      0.342      -3.635      10.480\n",
       "trade_type_3                 42.4398      2.960     14.338      0.000      36.634      48.246\n",
       "trade_type_4                 23.4896      2.723      8.625      0.000      18.148      28.831\n",
       "trade_type_last1_3          -12.2697      3.254     -3.771      0.000     -18.652      -5.887\n",
       "trade_type_last1_4           -7.0404      2.944     -2.391      0.017     -12.816      -1.265\n",
       "trade_type_last2_3           -2.2536      3.244     -0.695      0.487      -8.616       4.109\n",
       "trade_type_last2_4           -0.0966      2.851     -0.034      0.973      -5.688       5.495\n",
       "trade_type_last3_3           -3.6078      3.201     -1.127      0.260      -9.887       2.672\n",
       "trade_type_last3_4           -1.1408      2.896     -0.394      0.694      -6.822       4.540\n",
       "trade_type_last4_3          -10.4378      3.287     -3.175      0.002     -16.886      -3.990\n",
       "trade_type_last4_4           -5.4996      2.841     -1.936      0.053     -11.072       0.072\n",
       "trade_type_last5_3           -5.8543      3.236     -1.809      0.071     -12.202       0.494\n",
       "trade_type_last5_4           -1.5965      2.912     -0.548      0.584      -7.309       4.116\n",
       "trade_type_last6_3            0.9204      3.376      0.273      0.785      -5.702       7.543\n",
       "trade_type_last6_4            1.7782      2.912      0.611      0.541      -3.933       7.489\n",
       "trade_type_last7_3           -2.0866      3.246     -0.643      0.520      -8.454       4.280\n",
       "trade_type_last7_4            1.4412      2.897      0.497      0.619      -4.241       7.124\n",
       "trade_type_last8_3            0.7246      3.179      0.228      0.820      -5.511       6.960\n",
       "trade_type_last8_4            2.3718      2.837      0.836      0.403      -3.193       7.937\n",
       "trade_type_last9_3           -4.0305      3.150     -1.279      0.201     -10.210       2.149\n",
       "trade_type_last9_4           -5.2485      2.848     -1.843      0.066     -10.836       0.339\n",
       "trade_type_last10_3           0.6816      3.079      0.221      0.825      -5.357       6.721\n",
       "trade_type_last10_4           1.7173      2.750      0.625      0.532      -3.676       7.110\n",
       "==============================================================================\n",
       "Omnibus:                     1875.488   Durbin-Watson:                   1.983\n",
       "Prob(Omnibus):                  0.000   Jarque-Bera (JB):           782304.966\n",
       "Skew:                          -5.279   Prob(JB):                         0.00\n",
       "Kurtosis:                     110.137   Cond. No.                     7.44e+04\n",
       "==============================================================================\n",
       "\n",
       "Notes:\n",
       "[1] Standard Errors assume that the covariance matrix of the errors is correctly specified.\n",
       "[2] The condition number is large, 7.44e+04. This might indicate that there are\n",
       "strong multicollinearity or other numerical problems.\n",
       "\"\"\""
      ]
     },
     "execution_count": 10,
     "metadata": {},
     "output_type": "execute_result"
    }
   ],
   "source": [
    "datawd = sm.add_constant(datawd)\n",
    "holdout = sm.OLS(datawd['trade_price'], datawd.drop(['trade_price'], axis=1)).fit()\n",
    "holdout.summary()"
   ]
  },
  {
   "cell_type": "markdown",
   "metadata": {
    "id": "I6X--kMw0hzr"
   },
   "source": [
    "Below is the plot of residuals versus fitted values. The limits of the Y axis are adjusted to remove the influence of the outlier on the interpretation of the plot. There is nothing in this plot to suggest concerns with the fit."
   ]
  },
  {
   "cell_type": "code",
   "execution_count": 11,
   "metadata": {
    "colab": {
     "base_uri": "https://localhost:8080/",
     "height": 470
    },
    "id": "AzzvkrMh0hzr",
    "outputId": "9b43b2d0-ddfe-4211-e518-784fb099542e"
   },
   "outputs": [
    {
     "data": {
      "image/png": "[encoded data removed]",
      "text/plain": [
       "<Figure size 800x500 with 1 Axes>"
      ]
     },
     "metadata": {},
     "output_type": "display_data"
    }
   ],
   "source": [
    "plt.figure(figsize=(8,5))\n",
    "plt.scatter(holdout.fittedvalues, holdout.resid, s=10)\n",
    "plt.xlabel(\"Fitted Values\")\n",
    "plt.ylabel(\"Residuals\")\n",
    "plt.ylim(-200,200)\n",
    "plt.show()"
   ]
  },
  {
   "cell_type": "code",
   "execution_count": null,
   "metadata": {},
   "outputs": [],
   "source": []
  }
 ],
 "metadata": {
  "colab": {
   "provenance": []
  },
  "kernelspec": {
   "display_name": "Python 3 (ipykernel)",
   "language": "python",
   "name": "python3"
  },
  "language_info": {
   "codemirror_mode": {
    "name": "ipython",
    "version": 3
   },
   "file_extension": ".py",
   "mimetype": "text/x-python",
   "name": "python",
   "nbconvert_exporter": "python",
   "pygments_lexer": "ipython3",
   "version": "3.7.1"
  }
 },
 "nbformat": 4,
 "nbformat_minor": 4
}
