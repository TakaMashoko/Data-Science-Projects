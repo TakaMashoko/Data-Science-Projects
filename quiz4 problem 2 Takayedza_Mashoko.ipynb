{
 "cells": [
  {
   "cell_type": "code",
   "execution_count": 1,
   "metadata": {},
   "outputs": [],
   "source": [
    "import csv\n",
    "\n",
    "# open and read the csv file\n",
    "f = open(\"quiz4_routing.csv\")\n",
    "csvfile = csv.DictReader(f, delimiter=',')\n",
    "headers = csvfile.fieldnames\n",
    "\n",
    "table = []\n",
    "for row in csvfile:\n",
    "    table.append(row)\n",
    "    \n",
    "f.close()\n",
    "\n",
    "# define the set of routes\n",
    "Routes = headers[:]\n",
    "Routes.remove('Distribution Center')\n",
    "Routes.remove('Demand (lbs)')\n",
    "\n",
    "# read the parameters\n",
    "Demand = {}        # Demand[j] is the demand for distribution center j\n",
    "IsInRoute = {}     # IsInRoute[i,j] = 1 if route i includes distribution center j\n",
    "Length = {}        # Length[i] is the length of route i\n",
    "for row in table:\n",
    "    dc = row['Distribution Center']\n",
    "    if dc != 'n/a':\n",
    "        Demand[dc] = float(row['Demand (lbs)'])\n",
    "        for r in Routes:\n",
    "            if row[r] != '':\n",
    "                IsInRoute[(r,dc)] = int(row[r])\n",
    "    else:\n",
    "        for r in Routes:\n",
    "            Length[r] = float(row[r])\n",
    "DCs = Demand.keys()\n",
    "# Truck capacity\n",
    "truck_capacity = 30000"
   ]
  },
  {
   "cell_type": "code",
   "execution_count": 2,
   "metadata": {},
   "outputs": [],
   "source": [
    "from docplex.mp.model import Model\n",
    "mdl = Model()"
   ]
  },
  {
   "cell_type": "code",
   "execution_count": 3,
   "metadata": {},
   "outputs": [],
   "source": [
    "# Define decision variables\n",
    "selected = mdl.binary_var_dict(Routes, name='route')\n",
    "\n",
    "# Define the objective function\n",
    "mdl.minimize(mdl.sum(Length[r] * selected[r] for r in Routes))\n",
    "\n",
    "# Define the constraints\n",
    "for dc in DCs:\n",
    "    mdl.add_constraint(mdl.sum(IsInRoute.get((r, dc), 0) * selected[r] for r in Routes) >= 1, f'Demand_{dc}')\n",
    "\n"
   ]
  },
  {
   "cell_type": "code",
   "execution_count": 4,
   "metadata": {},
   "outputs": [],
   "source": [
    "# Constraints: Truck capacity must not be exceeded in any route\n",
    "for r in Routes:\n",
    "    mdl.add_constraint(mdl.sum(Demand[dc] for dc in DCs if (r, dc) in IsInRoute) <= truck_capacity)\n"
   ]
  },
  {
   "cell_type": "code",
   "execution_count": 5,
   "metadata": {},
   "outputs": [
    {
     "data": {
      "text/plain": [
       "docplex.mp.SolveDetails(time=0.094,status='integer optimal solution')"
      ]
     },
     "execution_count": 5,
     "metadata": {},
     "output_type": "execute_result"
    }
   ],
   "source": [
    "# solve\n",
    "mdl.solve()\n",
    "mdl.get_solve_details()"
   ]
  },
  {
   "cell_type": "code",
   "execution_count": 6,
   "metadata": {},
   "outputs": [
    {
     "name": "stdout",
     "output_type": "stream",
     "text": [
      "objective: 7922.000\n",
      "status: OPTIMAL_SOLUTION(2)\n",
      "  route_5=1\n",
      "  route_6=1\n",
      "  route_9=1\n",
      "  route_17=1\n",
      "  route_24=1\n",
      "  route_26=1\n",
      "  route_27=1\n"
     ]
    }
   ],
   "source": [
    "mdl.print_solution()"
   ]
  },
  {
   "cell_type": "code",
   "execution_count": 8,
   "metadata": {},
   "outputs": [
    {
     "name": "stdout",
     "output_type": "stream",
     "text": [
      "Total weight on each route:\n",
      "Route 5: 14000.0 lbs\n",
      "Route 6: 21000.0 lbs\n",
      "Route 9: 19000.0 lbs\n",
      "Route 17: 30000.0 lbs\n",
      "Route 24: 30000.0 lbs\n",
      "Route 26: 23000.0 lbs\n",
      "Route 27: 24000.0 lbs\n",
      "Number of routes carrying exactly 30,000 lbs: 2\n"
     ]
    }
   ],
   "source": [
    "# Calculate the total weight loaded on each truck\n",
    "route_weights = {}\n",
    "for r in Routes:\n",
    "    if selected[r].solution_value > 0.5:  # Route is selected\n",
    "        total_weight = sum(Demand[dc] for dc in DCs if (r, dc) in IsInRoute)\n",
    "        route_weights[r] = total_weight\n",
    "\n",
    "# Count the number of routes carrying exactly 30,000 lbs\n",
    "routes_with_max_weight = [r for r, weight in route_weights.items() if weight == 30000]\n",
    "\n",
    "print(\"Total weight on each route:\")\n",
    "for r, weight in route_weights.items():\n",
    "    print(f\"Route {r}: {weight} lbs\")\n",
    "\n",
    "print(f\"Number of routes carrying exactly 30,000 lbs: {len(routes_with_max_weight)}\")"
   ]
  },
  {
   "cell_type": "code",
   "execution_count": null,
   "metadata": {},
   "outputs": [],
   "source": [
    "# Question 9"
   ]
  },
  {
   "cell_type": "code",
   "execution_count": 10,
   "metadata": {},
   "outputs": [
    {
     "name": "stdout",
     "output_type": "stream",
     "text": [
      "objective: 8267.000\n",
      "status: OPTIMAL_SOLUTION(2)\n",
      "  route_5=1\n",
      "  route_6=1\n",
      "  route_26=1\n",
      "  route_29=1\n",
      "  route_30=1\n",
      "  route_37=1\n",
      "  route_39=1\n",
      "Total length of the routes used in the optimal solution: 8267.0 miles\n"
     ]
    }
   ],
   "source": [
    "import csv\n",
    "from docplex.mp.model import Model\n",
    "\n",
    "# Load the data from the CSV file\n",
    "file_path = 'quiz4_routing.csv'\n",
    "with open(file_path, 'r') as f:\n",
    "    csvfile = csv.DictReader(f, delimiter=',')\n",
    "    headers = csvfile.fieldnames\n",
    "    table = [row for row in csvfile]\n",
    "\n",
    "# Define the set of routes\n",
    "Routes = headers[:]\n",
    "Routes.remove('Distribution Center')\n",
    "Routes.remove('Demand (lbs)')\n",
    "\n",
    "# Read the parameters\n",
    "Demand = {}        # Demand[j] is the demand for distribution center j\n",
    "IsInRoute = {}     # IsInRoute[i,j] = 1 if route i includes distribution center j\n",
    "Length = {}        # Length[i] is the length of route i\n",
    "for row in table:\n",
    "    dc = row['Distribution Center']\n",
    "    if dc != 'n/a':\n",
    "        Demand[dc] = float(row['Demand (lbs)'])\n",
    "        for r in Routes:\n",
    "            if row[r] != '':\n",
    "                IsInRoute[(r, dc)] = int(row[r])\n",
    "    else:\n",
    "        for r in Routes:\n",
    "            Length[r] = float(row[r])\n",
    "\n",
    "DCs = Demand.keys()\n",
    "Capacity = 30000  # Truck capacity\n",
    "MaxExpectedDemand = 27000  # New requirement\n",
    "\n",
    "# Exclude routes that exceed the new expected demand constraint\n",
    "ValidRoutes = [r for r in Routes if sum(Demand[dc] for dc in DCs if (r, dc) in IsInRoute) <= MaxExpectedDemand]\n",
    "\n",
    "# Define the model\n",
    "mdl = Model()\n",
    "\n",
    "# Define decision variables\n",
    "selected = mdl.binary_var_dict(ValidRoutes, name='route')\n",
    "\n",
    "# Objective function\n",
    "mdl.minimize(mdl.sum(Length[r] * selected[r] for r in ValidRoutes))\n",
    "\n",
    "# Constraints: Each distribution center must be visited at least once\n",
    "for dc in DCs:\n",
    "    mdl.add_constraint(mdl.sum(IsInRoute.get((r, dc), 0) * selected[r] for r in ValidRoutes) >= 1, f'Demand_{dc}')\n",
    "\n",
    "# Constraints: Truck capacity must not be exceeded in any route\n",
    "for r in ValidRoutes:\n",
    "    mdl.add_constraint(mdl.sum(Demand[dc] for dc in DCs if (r, dc) in IsInRoute) <= Capacity)\n",
    "\n",
    "# Solve the model\n",
    "solution = mdl.solve()\n",
    "solution_details = mdl.get_solve_details()\n",
    "\n",
    "# Print solution\n",
    "mdl.print_solution()\n",
    "\n",
    "# Calculate the total length of the routes used in the optimal solution\n",
    "total_length = sum(Length[r] * selected[r].solution_value for r in ValidRoutes)\n",
    "print(f\"Total length of the routes used in the optimal solution: {total_length} miles\")"
   ]
  },
  {
   "cell_type": "code",
   "execution_count": null,
   "metadata": {},
   "outputs": [],
   "source": []
  }
 ],
 "metadata": {
  "kernelspec": {
   "display_name": "Python 3 (ipykernel)",
   "language": "python",
   "name": "python3"
  },
  "language_info": {
   "codemirror_mode": {
    "name": "ipython",
    "version": 3
   },
   "file_extension": ".py",
   "mimetype": "text/x-python",
   "name": "python",
   "nbconvert_exporter": "python",
   "pygments_lexer": "ipython3",
   "version": "3.10.14"
  }
 },
 "nbformat": 4,
 "nbformat_minor": 4
}
