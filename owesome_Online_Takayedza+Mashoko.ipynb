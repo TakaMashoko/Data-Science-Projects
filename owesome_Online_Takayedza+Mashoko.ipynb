{
 "cells": [
  {
   "cell_type": "code",
   "execution_count": 2,
   "id": "89cef204-b6e5-42d8-a7de-795645077da6",
   "metadata": {},
   "outputs": [
    {
     "name": "stdout",
     "output_type": "stream",
     "text": [
      "Number of base stations needed: 11\n",
      "Selected base stations: ['Berks', 'Bradford', 'Bucks', 'Cameron', 'Clearfield', 'Columbia', 'Elk', 'Northampton', 'Snyder', 'Somerset', 'York']\n",
      "Delivery plan: {('Adams', 'Berks'): 1.0, ('Allegheny', 'Clearfield'): 0.6984796468857283, ('Allegheny', 'Somerset'): 0.3015203531142717, ('Armstrong', 'Cameron'): 1.0, ('Beaver', 'Somerset'): 1.0, ('Bedford', 'Somerset'): 1.0, ('Berks', 'York'): 1.0, ('Blair', 'Cameron'): 1.0, ('Bradford', 'Cameron'): 1.0, ('Bucks', 'Bucks'): 0.3601995778161582, ('Bucks', 'Columbia'): 0.6398004221838418, ('Butler', 'Elk'): 1.0, ('Cambria', 'Cameron'): 1.0, ('Cameron', 'Cameron'): 1.0, ('Carbon', 'Bradford'): 1.0, ('Centre', 'Bradford'): 0.11292834890965664, ('Centre', 'Clearfield'): 0.4104361370716516, ('Centre', 'Elk'): 0.47663551401869175, ('Chester', 'Northampton'): 0.12025012025012027, ('Chester', 'York'): 0.8797498797498797, ('Clarion', 'Cameron'): 1.0, ('Clearfield', 'Cameron'): 1.0, ('Clinton', 'Snyder'): 1.0, ('Columbia', 'Bradford'): 1.0, ('Crawford', 'Elk'): 1.0, ('Cumberland', 'Clearfield'): 1.0, ('Dauphin', 'Snyder'): 1.0, ('Delaware', 'Bucks'): 1.0, ('Elk', 'Cameron'): 1.0, ('Erie', 'Elk'): 1.0, ('Fayette', 'Somerset'): 1.0, ('Forest', 'Cameron'): 1.0, ('Franklin', 'Somerset'): 1.0, ('Fulton', 'Snyder'): 1.0, ('Greene', 'Somerset'): 1.0, ('Huntingdon', 'Cameron'): 1.0, ('Indiana', 'Cameron'): 1.0, ('Jefferson', 'Cameron'): 1.0, ('Juniata', 'Cameron'): 1.0, ('Lackawanna', 'Bradford'): 1.0, ('Lancaster', 'Berks'): 1.0, ('Lawrence', 'Elk'): 1.0, ('Lebanon', 'Snyder'): 1.0, ('Lehigh', 'York'): 1.0, ('Luzerne', 'Bradford'): 1.0, ('Lycoming', 'Snyder'): 1.0, ('McKean', 'Cameron'): 1.0, ('Mercer', 'Elk'): 1.0, ('Mifflin', 'Clearfield'): 1.0, ('Monroe', 'Bradford'): 1.0, ('Montgomery', 'Columbia'): 1.0, ('Montour', 'Cameron'): 1.0, ('Northampton', 'Northampton'): 1.0, ('Northumberland', 'Cameron'): 1.0, ('Perry', 'Cameron'): 1.0, ('Philadelphia', 'Berks'): 0.17574899740504835, ('Philadelphia', 'Bucks'): 0.272391287253283, ('Philadelphia', 'Northampton'): 0.5518597153416687, ('Pike', 'Bradford'): 1.0, ('Potter', 'Snyder'): 1.0, ('Schuylkill', 'Bradford'): 1.0, ('Snyder', 'Snyder'): 1.0, ('Somerset', 'Somerset'): 1.0, ('Sullivan', 'Bradford'): 1.0, ('Susquehanna', 'Bradford'): 1.0, ('Tioga', 'Cameron'): 1.0, ('Union', 'Cameron'): 1.0, ('Venango', 'Cameron'): 1.0, ('Warren', 'Cameron'): 1.0, ('Washington', 'Somerset'): 1.0, ('Wayne', 'Bradford'): 1.0, ('Westmoreland', 'Elk'): 1.0, ('Wyoming', 'Bradford'): 1.0, ('York', 'Snyder'): 1.0}\n"
     ]
    }
   ],
   "source": [
    "import pandas as pd\n",
    "from docplex.mp.model import Model\n",
    "\n",
    "# Load data\n",
    "df_demand = pd.read_csv(\"demand.csv\").set_index('County')\n",
    "df_dist = pd.read_csv(\"distance_km.csv\")\n",
    "\n",
    "# Parameters\n",
    "Counties = df_demand.index.tolist()\n",
    "Demand = df_demand['Demand'].to_dict()\n",
    "Capacity = 10000\n",
    "Range = 150\n",
    "\n",
    "# Initialize CanServe dictionary\n",
    "CanServe = {(i, i): 1 for i in Counties}\n",
    "for i in df_dist.index:\n",
    "    if df_dist['Distance'][i] <= Range:\n",
    "        c1 = df_dist['County1'][i]\n",
    "        c2 = df_dist['County2'][i]\n",
    "        CanServe[c1, c2] = 1\n",
    "        if c1 not in Counties:\n",
    "            print(f\"ERROR: {c1} not in Counties\")\n",
    "        if c2 not in Counties:\n",
    "            print(f\"ERROR: {c2} not in Counties\")\n",
    "\n",
    "# Create model\n",
    "mdl = Model()\n",
    "\n",
    "# Decision variables\n",
    "x = mdl.binary_var_dict(Counties, name='x')\n",
    "y = mdl.continuous_var_dict(CanServe.keys(), name='y')\n",
    "\n",
    "# Objective: minimize number of base stations\n",
    "mdl.minimize(mdl.sum(x[j] for j in Counties))\n",
    "\n",
    "# Constraints\n",
    "# Capacity constraint\n",
    "for j in Counties:\n",
    "    mdl.add_constraint(mdl.sum(Demand[i] * y[i, j] for i in Counties if (i, j) in CanServe) <= Capacity * x[j])\n",
    "\n",
    "# Demand fulfillment constraint\n",
    "for i in Counties:\n",
    "    mdl.add_constraint(mdl.sum(y[i, j] for j in Counties if (i, j) in CanServe) == 1)\n",
    "\n",
    "# Distance constraint (implicitly handled by CanServe dictionary)\n",
    "\n",
    "# Optimize model\n",
    "mdl.solve()\n",
    "\n",
    "# Output results\n",
    "selected_base_stations = [j for j in Counties if x[j].solution_value > 0.5]\n",
    "print(f'Number of base stations needed: {len(selected_base_stations)}')\n",
    "print(f'Selected base stations: {selected_base_stations}')\n",
    "delivery_plan = {(i, j): y[i, j].solution_value for i in Counties for j in Counties if (i, j) in CanServe and y[i, j].solution_value > 0.001}\n",
    "print(f'Delivery plan: {delivery_plan}')\n"
   ]
  },
  {
   "cell_type": "code",
   "execution_count": null,
   "id": "851fac4f-42e6-4571-be17-fa94e5d369ae",
   "metadata": {},
   "outputs": [],
   "source": []
  }
 ],
 "metadata": {
  "kernelspec": {
   "display_name": "Python 3 (ipykernel)",
   "language": "python",
   "name": "python3"
  },
  "language_info": {
   "codemirror_mode": {
    "name": "ipython",
    "version": 3
   },
   "file_extension": ".py",
   "mimetype": "text/x-python",
   "name": "python",
   "nbconvert_exporter": "python",
   "pygments_lexer": "ipython3",
   "version": "3.10.14"
  }
 },
 "nbformat": 4,
 "nbformat_minor": 5
}
