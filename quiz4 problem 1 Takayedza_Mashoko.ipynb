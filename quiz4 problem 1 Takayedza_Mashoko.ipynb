{
 "cells": [
  {
   "cell_type": "code",
   "execution_count": 1,
   "metadata": {},
   "outputs": [],
   "source": [
    "# Read in the csv file as a dataframe using pandas\n",
    "import pandas as pd\n",
    "df = pd.read_csv(\"quiz4_invest.csv\", index_col='Project')\n",
    "\n",
    "# read the parameters\n",
    "Capital = {}\n",
    "Sector = {}\n",
    "Risk = {}\n",
    "Duration = {}\n",
    "ExpectedReturn = {}\n",
    "\n",
    "for i in df.index:  # iterate over the row index\n",
    "    Capital[i] = float(df['Capital ($M)'][i])\n",
    "    Sector[i] = df['Sector'][i]\n",
    "    Risk[i] = df['Risk'][i]\n",
    "    Duration[i] = float(df['Duration'][i])\n",
    "    ExpectedReturn[i] = float(df['Expected return ($M)'][i])\n",
    "    \n",
    "Projects = Capital.keys()\n",
    "Budget = 100"
   ]
  },
  {
   "cell_type": "code",
   "execution_count": 2,
   "metadata": {},
   "outputs": [],
   "source": [
    "from docplex.mp.model import Model\n",
    "mdl = Model()"
   ]
  },
  {
   "cell_type": "code",
   "execution_count": 3,
   "metadata": {},
   "outputs": [],
   "source": [
    "\n",
    "# Define decision variables\n",
    "select = mdl.binary_var_dict(Projects, name='project')\n"
   ]
  },
  {
   "cell_type": "code",
   "execution_count": 4,
   "metadata": {},
   "outputs": [],
   "source": [
    "# Objective function: maximize total expected return\n",
    "mdl.maximize(mdl.sum(ExpectedReturn[i] * select[i] for i in Projects))\n",
    "\n"
   ]
  },
  {
   "cell_type": "code",
   "execution_count": 5,
   "metadata": {},
   "outputs": [
    {
     "data": {
      "text/plain": [
       "docplex.mp.LinearConstraint[Total_Capital](20project_Project 1+15project_Project 2+23project_Project 3+10project_Project 4+20project_Project 5+12project_Project 6+20project_Project 7+25project_Project 8+14project_Project 9+10project_Project 10,LE,100)"
      ]
     },
     "execution_count": 5,
     "metadata": {},
     "output_type": "execute_result"
    }
   ],
   "source": [
    "# Constraint: Total capital investment should not exceed $100M\n",
    "mdl.add_constraint(mdl.sum(Capital[i] * select[i] for i in Projects) <= Budget, 'Total_Capital')\n",
    "\n"
   ]
  },
  {
   "cell_type": "code",
   "execution_count": 6,
   "metadata": {},
   "outputs": [
    {
     "data": {
      "text/plain": [
       "docplex.mp.LinearConstraint[IT_Sector](project_Project 1+project_Project 6+project_Project 10,LE,2)"
      ]
     },
     "execution_count": 6,
     "metadata": {},
     "output_type": "execute_result"
    }
   ],
   "source": [
    "# Constraint: At most two projects in IT sector\n",
    "mdl.add_constraint(mdl.sum(select[i] for i in Projects if Sector[i] == 'IT') <= 2, 'IT_Sector')\n",
    "\n"
   ]
  },
  {
   "cell_type": "code",
   "execution_count": 7,
   "metadata": {},
   "outputs": [
    {
     "data": {
      "text/plain": [
       "docplex.mp.LinearConstraint[Healthcare_Sector](project_Project 2+project_Project 3,GE,1)"
      ]
     },
     "execution_count": 7,
     "metadata": {},
     "output_type": "execute_result"
    }
   ],
   "source": [
    "# Constraint: At least one project in Healthcare sector\n",
    "mdl.add_constraint(mdl.sum(select[i] for i in Projects if Sector[i] == 'Healthcare') >= 1, 'Healthcare_Sector')\n",
    "\n"
   ]
  },
  {
   "cell_type": "code",
   "execution_count": 8,
   "metadata": {},
   "outputs": [
    {
     "data": {
      "text/plain": [
       "docplex.mp.LinearConstraint[Risk_Balance](project_Project 1+project_Project 8+project_Project 10,GE,project_Project 3+project_Project 6+project_Project 7)"
      ]
     },
     "execution_count": 8,
     "metadata": {},
     "output_type": "execute_result"
    }
   ],
   "source": [
    "# Constraint: Number of low-risk projects must be at least the number of high-risk projects\n",
    "mdl.add_constraint(mdl.sum(select[i] for i in Projects if Risk[i] == 'Low') >= \n",
    "                   mdl.sum(select[i] for i in Projects if Risk[i] == 'High'), 'Risk_Balance')\n",
    "\n",
    "\n"
   ]
  },
  {
   "cell_type": "code",
   "execution_count": 9,
   "metadata": {},
   "outputs": [
    {
     "data": {
      "text/plain": [
       "docplex.mp.LinearConstraint[Duration_Limit](project_Project 1+project_Project 2+project_Project 3+project_Project 4+project_Project 6+project_Project 9+project_Project 10,GE,3)"
      ]
     },
     "execution_count": 9,
     "metadata": {},
     "output_type": "execute_result"
    }
   ],
   "source": [
    "# Constraint: At least three projects with duration of 4 years or shorter\n",
    "mdl.add_constraint(mdl.sum(select[i] for i in Projects if Duration[i] <= 4) >= 3, 'Duration_Limit')\n",
    "\n"
   ]
  },
  {
   "cell_type": "code",
   "execution_count": 10,
   "metadata": {},
   "outputs": [
    {
     "data": {
      "text/plain": [
       "docplex.mp.SolveDetails(time=0.703,status='integer optimal solution')"
      ]
     },
     "execution_count": 10,
     "metadata": {},
     "output_type": "execute_result"
    }
   ],
   "source": [
    "# solve\n",
    "mdl.solve()\n",
    "mdl.get_solve_details()"
   ]
  },
  {
   "cell_type": "code",
   "execution_count": 11,
   "metadata": {},
   "outputs": [
    {
     "name": "stdout",
     "output_type": "stream",
     "text": [
      "objective: 238.000\n",
      "status: OPTIMAL_SOLUTION(2)\n",
      "  \"project_Project 1\"=1\n",
      "  \"project_Project 2\"=1\n",
      "  \"project_Project 4\"=1\n",
      "  \"project_Project 5\"=1\n",
      "  \"project_Project 7\"=1\n",
      "  \"project_Project 9\"=1\n"
     ]
    }
   ],
   "source": [
    "mdl.print_solution()"
   ]
  },
  {
   "cell_type": "code",
   "execution_count": null,
   "metadata": {},
   "outputs": [],
   "source": [
    "# Question 3 Online"
   ]
  },
  {
   "cell_type": "code",
   "execution_count": 13,
   "metadata": {},
   "outputs": [
    {
     "name": "stdout",
     "output_type": "stream",
     "text": [
      "Minimum capital needed: 79.0\n",
      "Selected projects:\n",
      "Project Project 2 selected\n",
      "Project Project 5 selected\n",
      "Project Project 7 selected\n",
      "Project Project 9 selected\n",
      "Project Project 10 selected\n"
     ]
    }
   ],
   "source": [
    "import pandas as pd\n",
    "from docplex.mp.model import Model\n",
    "\n",
    "# Load the data from the CSV file\n",
    "df = pd.read_csv(\"quiz4_invest.csv\", index_col='Project')\n",
    "\n",
    "# Read the parameters\n",
    "Capital = df['Capital ($M)'].to_dict()\n",
    "Sector = df['Sector'].to_dict()\n",
    "Risk = df['Risk'].to_dict()\n",
    "Duration = df['Duration'].to_dict()\n",
    "ExpectedReturn = df['Expected return ($M)'].to_dict()\n",
    "\n",
    "Projects = list(Capital.keys())\n",
    "Budget = 100  # Initial budget constraint remains, though it's not the primary constraint anymore\n",
    "\n",
    "# Create the model\n",
    "mdl = Model()\n",
    "\n",
    "# Define decision variables\n",
    "select = mdl.binary_var_dict(Projects, name='project')\n",
    "\n",
    "# New variable for total capital used\n",
    "total_capital = mdl.sum(Capital[i] * select[i] for i in Projects)\n",
    "\n",
    "# Objective function: minimize total capital used\n",
    "mdl.minimize(total_capital)\n",
    "\n",
    "# Constraint: Expected return must be at least $200 million\n",
    "mdl.add_constraint(mdl.sum(ExpectedReturn[i] * select[i] for i in Projects) >= 200, 'Expected_Return')\n",
    "\n",
    "# Constraint: At most two projects in IT sector\n",
    "mdl.add_constraint(mdl.sum(select[i] for i in Projects if Sector[i] == 'IT') <= 2, 'IT_Sector')\n",
    "\n",
    "# Constraint: At least one project in Healthcare sector\n",
    "mdl.add_constraint(mdl.sum(select[i] for i in Projects if Sector[i] == 'Healthcare') >= 1, 'Healthcare_Sector')\n",
    "\n",
    "# Constraint: Number of low-risk projects must be at least the number of high-risk projects\n",
    "mdl.add_constraint(mdl.sum(select[i] for i in Projects if Risk[i] == 'Low') >= \n",
    "                   mdl.sum(select[i] for i in Projects if Risk[i] == 'High'), 'Risk_Balance')\n",
    "\n",
    "# Constraint: At least three projects with duration of 4 years or shorter\n",
    "mdl.add_constraint(mdl.sum(select[i] for i in Projects if Duration[i] <= 4) >= 3, 'Duration_Limit')\n",
    "\n",
    "# Solve the model\n",
    "solution = mdl.solve()\n",
    "\n",
    "# Output the solution\n",
    "if solution:\n",
    "    min_capital = total_capital.solution_value\n",
    "    print(\"Minimum capital needed:\", min_capital)\n",
    "    print(\"Selected projects:\")\n",
    "    for p in Projects:\n",
    "        if select[p].solution_value > 0.5:\n",
    "            print(f\"Project {p} selected\")\n",
    "else:\n",
    "    print(\"No solution found\")\n"
   ]
  },
  {
   "cell_type": "code",
   "execution_count": null,
   "metadata": {},
   "outputs": [],
   "source": []
  }
 ],
 "metadata": {
  "kernelspec": {
   "display_name": "Python 3 (ipykernel)",
   "language": "python",
   "name": "python3"
  },
  "language_info": {
   "codemirror_mode": {
    "name": "ipython",
    "version": 3
   },
   "file_extension": ".py",
   "mimetype": "text/x-python",
   "name": "python",
   "nbconvert_exporter": "python",
   "pygments_lexer": "ipython3",
   "version": "3.10.14"
  }
 },
 "nbformat": 4,
 "nbformat_minor": 4
}
