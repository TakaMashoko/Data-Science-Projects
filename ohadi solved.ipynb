{
 "cells": [
  {
   "cell_type": "code",
   "execution_count": 6,
   "metadata": {},
   "outputs": [],
   "source": [
    "Groups = { 'Large', 'Medium', 'Small' }\n",
    "Demand = { 'Large' : 120, 'Medium' : 180, 'Small' : 150 }\n",
    "Suppliers = { 'Supplier 1', 'Supplier 2', 'Supplier 3', 'Supplier 4', 'Supplier 5' }\n",
    "Cost = { 'Supplier 1': 310, 'Supplier 2': 270, 'Supplier 3': 320, 'Supplier 4': 240, 'Supplier 5': 250 }\n",
    "Content = {\n",
    "    ('Supplier 1', 'Large') : 0.28, \t('Supplier 1', 'Medium') : 0.45, \t('Supplier 1', 'Small') : 0.27, \n",
    "    ('Supplier 2', 'Large') : 0.25, \t('Supplier 2', 'Medium') : 0.4, \t('Supplier 2', 'Small') : 0.35, \n",
    "    ('Supplier 3', 'Large') : 0.3, \t('Supplier 3', 'Medium') : 0.41, \t('Supplier 3', 'Small') : 0.29, \n",
    "    ('Supplier 4', 'Large') : 0.17, \t('Supplier 4', 'Medium') : 0.48, \t('Supplier 4', 'Small') : 0.35, \n",
    "    ('Supplier 5', 'Large') : 0.21, \t('Supplier 5', 'Medium') : 0.42, \t('Supplier 5', 'Small') : 0.37\n",
    "}"
   ]
  },
  {
   "cell_type": "code",
   "execution_count": 2,
   "metadata": {},
   "outputs": [],
   "source": [
    "from docplex.mp.model import Model\n",
    "mdl = Model()"
   ]
  },
  {
   "cell_type": "code",
   "execution_count": 4,
   "metadata": {},
   "outputs": [],
   "source": [
    "# variables (amount in tonne)\n",
    "amount = mdl.continuous_var_dict(Suppliers, lb=0, name='Amount')"
   ]
  },
  {
   "cell_type": "code",
   "execution_count": 5,
   "metadata": {},
   "outputs": [],
   "source": [
    "# objective\n",
    "mdl.minimize(mdl.sum(Cost[s]*amount[s] for s in Suppliers))"
   ]
  },
  {
   "cell_type": "code",
   "execution_count": 8,
   "metadata": {},
   "outputs": [],
   "source": [
    "# demand constraints\n",
    "for g in Groups:\n",
    "    mdl.add_constraint(mdl.sum(Content[s,g]*amount[s] for s in Suppliers) >= Demand[g])"
   ]
  },
  {
   "cell_type": "code",
   "execution_count": 9,
   "metadata": {},
   "outputs": [
    {
     "data": {
      "text/plain": [
       "docplex.mp.SolveDetails(time=0.016,status='optimal')"
      ]
     },
     "execution_count": 9,
     "metadata": {},
     "output_type": "execute_result"
    }
   ],
   "source": [
    "# solve\n",
    "mdl.solve()\n",
    "mdl.get_solve_details()"
   ]
  },
  {
   "cell_type": "code",
   "execution_count": 10,
   "metadata": {},
   "outputs": [
    {
     "name": "stdout",
     "output_type": "stream",
     "text": [
      "objective: 129046.154\n",
      "  \"Amount_Supplier 2\"=313.846\n",
      "  \"Amount_Supplier 3\"=138.462\n"
     ]
    }
   ],
   "source": [
    "mdl.print_solution()"
   ]
  },
  {
   "cell_type": "code",
   "execution_count": null,
   "metadata": {},
   "outputs": [],
   "source": []
  }
 ],
 "metadata": {
  "kernelspec": {
   "display_name": "Python 3 (ipykernel)",
   "language": "python",
   "name": "python3"
  },
  "language_info": {
   "codemirror_mode": {
    "name": "ipython",
    "version": 3
   },
   "file_extension": ".py",
   "mimetype": "text/x-python",
   "name": "python",
   "nbconvert_exporter": "python",
   "pygments_lexer": "ipython3",
   "version": "3.10.14"
  }
 },
 "nbformat": 4,
 "nbformat_minor": 4
}
